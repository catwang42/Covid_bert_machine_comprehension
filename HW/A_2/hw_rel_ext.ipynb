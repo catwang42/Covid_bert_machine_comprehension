{
 "cells": [
  {
   "cell_type": "markdown",
   "metadata": {},
   "source": [
    "# Homework and bake-off: Relation extraction using distant supervision"
   ]
  },
  {
   "cell_type": "code",
   "execution_count": 2,
   "metadata": {},
   "outputs": [],
   "source": [
    "__author__ = \"Bill MacCartney and Christopher Potts\"\n",
    "__version__ = \"CS224u, Stanford, Spring 2020\""
   ]
  },
  {
   "cell_type": "markdown",
   "metadata": {},
   "source": [
    "## Contents\n",
    "\n",
    "1. [Overview](#Overview)\n",
    "1. [Set-up](#Set-up)\n",
    "1. [Baselines](#Baselines)\n",
    "  1. [Hand-build feature functions](#Hand-build-feature-functions)\n",
    "  1. [Distributed representations](#Distributed-representations)\n",
    "1. [Homework questions](#Homework-questions)\n",
    "  1. [Different model factory [1 points]](#Different-model-factory-[1-points])\n",
    "  1. [Directional unigram features [1.5 points]](#Directional-unigram-features-[1.5-points])\n",
    "  1. [The part-of-speech tags of the \"middle\" words [1.5 points]](#The-part-of-speech-tags-of-the-\"middle\"-words-[1.5-points])\n",
    "  1. [Bag of Synsets [2 points]](#Bag-of-Synsets-[2-points])\n",
    "  1. [Your original system [3 points]](#Your-original-system-[3-points])\n",
    "1. [Bake-off [1 point]](#Bake-off-[1-point])"
   ]
  },
  {
   "cell_type": "markdown",
   "metadata": {},
   "source": [
    "## Overview\n",
    "\n",
    "This homework and associated bake-off are devoted to the developing really effective relation extraction systems using distant supervision. \n",
    "\n",
    "As with the previous assignments, this notebook first establishes a baseline system. The initial homework questions ask you to create additional baselines and suggest areas for innovation, and the final homework question asks you to develop an original system for you to enter into the bake-off."
   ]
  },
  {
   "cell_type": "markdown",
   "metadata": {},
   "source": [
    "## Set-up\n",
    "\n",
    "See [the first notebook in this unit](rel_ext_01_task.ipynb#Set-up) for set-up instructions."
   ]
  },
  {
   "cell_type": "code",
   "execution_count": 1,
   "metadata": {},
   "outputs": [],
   "source": [
    "import numpy as np\n",
    "import os\n",
    "import rel_ext\n",
    "from sklearn.linear_model import LogisticRegression\n",
    "import utils"
   ]
  },
  {
   "cell_type": "markdown",
   "metadata": {},
   "source": [
    "As usual, we unite our corpus and KB into a dataset, and create some splits for experimentation:"
   ]
  },
  {
   "cell_type": "code",
   "execution_count": 3,
   "metadata": {},
   "outputs": [],
   "source": [
    "rel_ext_data_home = os.path.join('data', 'rel_ext_data')"
   ]
  },
  {
   "cell_type": "code",
   "execution_count": 4,
   "metadata": {},
   "outputs": [],
   "source": [
    "corpus = rel_ext.Corpus(os.path.join(rel_ext_data_home, 'corpus.tsv.gz'))"
   ]
  },
  {
   "cell_type": "code",
   "execution_count": 5,
   "metadata": {},
   "outputs": [],
   "source": [
    "kb = rel_ext.KB(os.path.join(rel_ext_data_home, 'kb.tsv.gz'))"
   ]
  },
  {
   "cell_type": "code",
   "execution_count": 6,
   "metadata": {},
   "outputs": [],
   "source": [
    "dataset = rel_ext.Dataset(corpus, kb)"
   ]
  },
  {
   "cell_type": "markdown",
   "metadata": {},
   "source": [
    "You are not wedded to this set-up for splits. The bake-off will be conducted on a previously unseen test-set, so all of the data in `dataset` is fair game:"
   ]
  },
  {
   "cell_type": "code",
   "execution_count": 7,
   "metadata": {},
   "outputs": [],
   "source": [
    "splits = dataset.build_splits(\n",
    "    split_names=['tiny', 'train', 'dev'],\n",
    "    split_fracs=[0.01, 0.79, 0.20],\n",
    "    seed=1)"
   ]
  },
  {
   "cell_type": "code",
   "execution_count": 8,
   "metadata": {},
   "outputs": [
    {
     "data": {
      "text/plain": [
       "{'tiny': Corpus with 3,474 examples; KB with 445 triples,\n",
       " 'train': Corpus with 263,285 examples; KB with 36,191 triples,\n",
       " 'dev': Corpus with 64,937 examples; KB with 9,248 triples,\n",
       " 'all': Corpus with 331,696 examples; KB with 45,884 triples}"
      ]
     },
     "execution_count": 8,
     "metadata": {},
     "output_type": "execute_result"
    }
   ],
   "source": [
    "splits"
   ]
  },
  {
   "cell_type": "markdown",
   "metadata": {},
   "source": [
    "## Baselines"
   ]
  },
  {
   "cell_type": "markdown",
   "metadata": {},
   "source": [
    "### Hand-build feature functions"
   ]
  },
  {
   "cell_type": "code",
   "execution_count": 9,
   "metadata": {},
   "outputs": [],
   "source": [
    "def simple_bag_of_words_featurizer(kbt, corpus, feature_counter):\n",
    "    for ex in corpus.get_examples_for_entities(kbt.sbj, kbt.obj):\n",
    "        for word in ex.middle.split(' '):\n",
    "            feature_counter[word] += 1\n",
    "    for ex in corpus.get_examples_for_entities(kbt.obj, kbt.sbj):\n",
    "        for word in ex.middle.split(' '):\n",
    "            feature_counter[word] += 1\n",
    "    return feature_counter"
   ]
  },
  {
   "cell_type": "code",
   "execution_count": 17,
   "metadata": {},
   "outputs": [],
   "source": [
    "featurizers = [simple_bag_of_words_featurizer]"
   ]
  },
  {
   "cell_type": "code",
   "execution_count": 18,
   "metadata": {},
   "outputs": [],
   "source": [
    "model_factory = lambda: LogisticRegression(fit_intercept=True, solver='liblinear')"
   ]
  },
  {
   "cell_type": "code",
   "execution_count": 12,
   "metadata": {
    "scrolled": true
   },
   "outputs": [
    {
     "name": "stdout",
     "output_type": "stream",
     "text": [
      "relation              precision     recall    f-score    support       size\n",
      "------------------    ---------  ---------  ---------  ---------  ---------\n",
      "adjoins                   0.854      0.379      0.683        340       5716\n",
      "author                    0.797      0.538      0.727        509       5885\n",
      "capital                   0.559      0.200      0.411         95       5471\n",
      "contains                  0.793      0.601      0.745       3904       9280\n",
      "film_performance          0.779      0.567      0.725        766       6142\n",
      "founders                  0.782      0.397      0.655        380       5756\n",
      "genre                     0.540      0.159      0.365        170       5546\n",
      "has_sibling               0.872      0.246      0.579        499       5875\n",
      "has_spouse                0.879      0.318      0.650        594       5970\n",
      "is_a                      0.667      0.225      0.479        497       5873\n",
      "nationality               0.667      0.186      0.440        301       5677\n",
      "parents                   0.859      0.526      0.762        312       5688\n",
      "place_of_birth            0.641      0.215      0.459        233       5609\n",
      "place_of_death            0.600      0.113      0.323        159       5535\n",
      "profession                0.644      0.190      0.436        247       5623\n",
      "worked_at                 0.785      0.256      0.556        242       5618\n",
      "------------------    ---------  ---------  ---------  ---------  ---------\n",
      "macro-average             0.732      0.320      0.562       9248      95264\n"
     ]
    }
   ],
   "source": [
    "baseline_results = rel_ext.experiment(\n",
    "    splits,\n",
    "    train_split='train',\n",
    "    test_split='dev',\n",
    "    featurizers=featurizers,\n",
    "    model_factory=model_factory,\n",
    "    verbose=True)"
   ]
  },
  {
   "cell_type": "markdown",
   "metadata": {},
   "source": [
    "Studying model weights might yield insights:"
   ]
  },
  {
   "cell_type": "code",
   "execution_count": null,
   "metadata": {},
   "outputs": [],
   "source": [
    "rel_ext.examine_model_weights(baseline_results)"
   ]
  },
  {
   "cell_type": "markdown",
   "metadata": {},
   "source": [
    "### Distributed representations\n",
    "\n",
    "This simple baseline sums the GloVe vector representations for all of the words in the \"middle\" span and feeds those representations into the standard `LogisticRegression`-based `model_factory`. The crucial parameter that enables this is `vectorize=False`. This essentially says to `rel_ext.experiment` that your featurizer or your model will do the work of turning examples into vectors; in that case, `rel_ext.experiment` just organizes these representations by relation type."
   ]
  },
  {
   "cell_type": "code",
   "execution_count": 10,
   "metadata": {},
   "outputs": [],
   "source": [
    "GLOVE_HOME = os.path.join('data', 'glove.6B')"
   ]
  },
  {
   "cell_type": "code",
   "execution_count": 11,
   "metadata": {},
   "outputs": [],
   "source": [
    "glove_lookup = utils.glove2dict(\n",
    "    os.path.join(GLOVE_HOME, 'glove.6B.300d.txt'))"
   ]
  },
  {
   "cell_type": "code",
   "execution_count": 12,
   "metadata": {},
   "outputs": [],
   "source": [
    "def glove_middle_featurizer(kbt, corpus, np_func=np.sum):\n",
    "    reps = []\n",
    "    for ex in corpus.get_examples_for_entities(kbt.sbj, kbt.obj):\n",
    "        for word in ex.middle.split():\n",
    "            rep = glove_lookup.get(word)\n",
    "            if rep is not None:\n",
    "                reps.append(rep)\n",
    "    # A random representation of the right dimensionality if the\n",
    "    # example happens not to overlap with GloVe's vocabulary:\n",
    "    if len(reps) == 0:\n",
    "        dim = len(next(iter(glove_lookup.values())))                \n",
    "        return utils.randvec(n=dim)\n",
    "    else:\n",
    "        return np_func(reps, axis=0)"
   ]
  },
  {
   "cell_type": "code",
   "execution_count": 16,
   "metadata": {},
   "outputs": [
    {
     "name": "stdout",
     "output_type": "stream",
     "text": [
      "relation              precision     recall    f-score    support       size\n",
      "------------------    ---------  ---------  ---------  ---------  ---------\n",
      "adjoins                   0.883      0.444      0.737        340       5716\n",
      "author                    0.867      0.424      0.718        509       5885\n",
      "capital                   0.639      0.242      0.481         95       5471\n",
      "contains                  0.652      0.412      0.584       3904       9280\n",
      "film_performance          0.800      0.334      0.626        766       6142\n",
      "founders                  0.795      0.234      0.537        380       5756\n",
      "genre                     0.370      0.059      0.180        170       5546\n",
      "has_sibling               0.822      0.240      0.554        499       5875\n",
      "has_spouse                0.857      0.354      0.667        594       5970\n",
      "is_a                      0.748      0.161      0.432        497       5873\n",
      "nationality               0.646      0.206      0.453        301       5677\n",
      "parents                   0.901      0.407      0.725        312       5688\n",
      "place_of_birth            0.651      0.232      0.478        233       5609\n",
      "place_of_death            0.450      0.113      0.282        159       5535\n",
      "profession                0.708      0.138      0.387        247       5623\n",
      "worked_at                 0.697      0.256      0.518        242       5618\n",
      "------------------    ---------  ---------  ---------  ---------  ---------\n",
      "macro-average             0.718      0.266      0.522       9248      95264\n"
     ]
    }
   ],
   "source": [
    "glove_results = rel_ext.experiment(\n",
    "    splits,\n",
    "    train_split='train',\n",
    "    test_split='dev',\n",
    "    featurizers=[glove_middle_featurizer],    \n",
    "    vectorize=False, # Crucial for this featurizer!\n",
    "    verbose=True)"
   ]
  },
  {
   "cell_type": "markdown",
   "metadata": {},
   "source": [
    "With the same basic code design, one can also use the PyTorch models included in the course repo, or write new ones that are better aligned with the task. For those models, it's likely that the featurizer will just return a list of tokens (or perhaps a list of lists of tokens), and the model will map those into vectors using an embedding."
   ]
  },
  {
   "cell_type": "markdown",
   "metadata": {},
   "source": [
    "## Homework questions\n",
    "\n",
    "Please embed your homework responses in this notebook, and do not delete any cells from the notebook. (You are free to add as many cells as you like as part of your responses.)"
   ]
  },
  {
   "cell_type": "markdown",
   "metadata": {},
   "source": [
    "### Different model factory [1 points]\n",
    "\n",
    "The code in `rel_ext` makes it very easy to experiment with other classifier models: one need only redefine the `model_factory` argument. This question asks you to assess a [Support Vector Classifier](https://scikit-learn.org/stable/modules/generated/sklearn.svm.SVC.html).\n",
    "\n",
    "__To submit:__ A wrapper function `run_svm_model_factory` that does the following: \n",
    "\n",
    "1. Uses `rel_ext.experiment` with the model factory set to one based in an `SVC` with `kernel='linear'` and all other arguments left with default values. \n",
    "1. Trains on the 'train' part of `splits`.\n",
    "1. Assesses on the `dev` part of `splits`.\n",
    "1. Uses `featurizers` as defined above. \n",
    "1. Returns the return value of `rel_ext.experiment` for this set-up.\n",
    "\n",
    "The function `test_run_svm_model_factory` will check that your function conforms to these general specifications."
   ]
  },
  {
   "cell_type": "code",
   "execution_count": 17,
   "metadata": {},
   "outputs": [],
   "source": [
    "def run_svm_model_factory():\n",
    "    from sklearn.svm import SVC\n",
    "    ##### YOUR CODE HERE\n",
    "    model_factory = lambda: SVC(kernel='linear')\n",
    "    \n",
    "    svc_results = rel_ext.experiment(\n",
    "        splits,\n",
    "        train_split='train',\n",
    "        test_split='dev',\n",
    "        featurizers=featurizers,\n",
    "        model_factory=model_factory,\n",
    "        verbose=True)\n",
    "    \n",
    "    return svc_results\n"
   ]
  },
  {
   "cell_type": "code",
   "execution_count": 18,
   "metadata": {},
   "outputs": [],
   "source": [
    "def test_run_svm_model_factory(run_svm_model_factory):\n",
    "    results = run_svm_model_factory()\n",
    "    assert 'featurizers' in results, \\\n",
    "        \"The return value of `run_svm_model_factory` seems not to be correct\"\n",
    "    # Check one of the models to make sure it's an SVC:\n",
    "    assert 'SVC' in results['models']['adjoins'].__class__.__name__, \\\n",
    "        \"It looks like the model factor wasn't set to use an SVC.\"    "
   ]
  },
  {
   "cell_type": "code",
   "execution_count": 19,
   "metadata": {},
   "outputs": [
    {
     "name": "stdout",
     "output_type": "stream",
     "text": [
      "relation              precision     recall    f-score    support       size\n",
      "------------------    ---------  ---------  ---------  ---------  ---------\n",
      "adjoins                   0.757      0.385      0.635        340       5716\n",
      "author                    0.728      0.595      0.697        509       5885\n",
      "capital                   0.556      0.263      0.455         95       5471\n",
      "contains                  0.783      0.603      0.739       3904       9280\n",
      "film_performance          0.750      0.619      0.719        766       6142\n",
      "founders                  0.739      0.463      0.661        380       5756\n",
      "genre                     0.543      0.259      0.445        170       5546\n",
      "has_sibling               0.778      0.238      0.536        499       5875\n",
      "has_spouse                0.839      0.360      0.663        594       5970\n",
      "is_a                      0.597      0.272      0.482        497       5873\n",
      "nationality               0.539      0.183      0.388        301       5677\n",
      "parents                   0.808      0.567      0.745        312       5688\n",
      "place_of_birth            0.553      0.223      0.427        233       5609\n",
      "place_of_death            0.392      0.126      0.275        159       5535\n",
      "profession                0.534      0.251      0.436        247       5623\n",
      "worked_at                 0.581      0.281      0.479        242       5618\n",
      "------------------    ---------  ---------  ---------  ---------  ---------\n",
      "macro-average             0.655      0.356      0.549       9248      95264\n"
     ]
    }
   ],
   "source": [
    "if 'IS_GRADESCOPE_ENV' not in os.environ:\n",
    "    test_run_svm_model_factory(run_svm_model_factory)"
   ]
  },
  {
   "cell_type": "markdown",
   "metadata": {},
   "source": [
    "### Directional unigram features [1.5 points]\n",
    "\n",
    "The current bag-of-words representation makes no distinction between \"forward\" and \"reverse\" examples. But, intuitively, there is big difference between _X and his son Y_ and _Y and his son X_. This question asks you to modify `simple_bag_of_words_featurizer` to capture these differences. \n",
    "\n",
    "__To submit:__\n",
    "\n",
    "1. A feature function `directional_bag_of_words_featurizer` that is just like `simple_bag_of_words_featurizer` except that it distinguishes \"forward\" and \"reverse\". To do this, you just need to mark each word feature for whether it is derived from a subject–object example or from an object–subject example.  The included function `test_directional_bag_of_words_featurizer` should help verify that you've done this correctly.\n",
    "\n",
    "2. A call to `rel_ext.experiment` with `directional_bag_of_words_featurizer` as the only featurizer. (Aside from this, use all the default values for `rel_ext.experiment` as exemplified above in this notebook.)\n",
    "\n",
    "3. `rel_ext.experiment` returns some of the core objects used in the experiment. How many feature names does the `vectorizer` have for the experiment run in the previous step? Include the code needed for getting this value. (Note: we're partly asking you to figure out how to get this value by using the sklearn documentation, so please don't ask how to do it!)"
   ]
  },
  {
   "cell_type": "code",
   "execution_count": 19,
   "metadata": {},
   "outputs": [
    {
     "name": "stdout",
     "output_type": "stream",
     "text": [
      "relation              precision     recall    f-score    support       size\n",
      "------------------    ---------  ---------  ---------  ---------  ---------\n",
      "adjoins                   0.884      0.426      0.728        340       5716\n",
      "author                    0.825      0.591      0.764        509       5885\n",
      "capital                   0.656      0.221      0.471         95       5471\n",
      "contains                  0.830      0.641      0.784       3904       9280\n",
      "film_performance          0.829      0.653      0.787        766       6142\n",
      "founders                  0.797      0.403      0.666        380       5756\n",
      "genre                     0.677      0.259      0.512        170       5546\n",
      "has_sibling               0.848      0.246      0.570        499       5875\n",
      "has_spouse                0.839      0.352      0.657        594       5970\n",
      "is_a                      0.738      0.243      0.525        497       5873\n",
      "nationality               0.581      0.203      0.423        301       5677\n",
      "parents                   0.870      0.513      0.763        312       5688\n",
      "place_of_birth            0.653      0.210      0.460        233       5609\n",
      "place_of_death            0.512      0.138      0.332        159       5535\n",
      "profession                0.691      0.227      0.490        247       5623\n",
      "worked_at                 0.793      0.269      0.570        242       5618\n",
      "------------------    ---------  ---------  ---------  ---------  ---------\n",
      "macro-average             0.751      0.350      0.594       9248      95264\n"
     ]
    }
   ],
   "source": [
    "def directional_bag_of_words_featurizer(kbt, corpus, feature_counter): \n",
    "    # Append these to the end of the keys you add/access in \n",
    "    # `feature_counter` to distinguish the two orders. You'll\n",
    "    # need to use exactly these strings in order to pass \n",
    "    # `test_directional_bag_of_words_featurizer`.\n",
    "    subject_object_suffix = \"_SO\"\n",
    "    object_subject_suffix = \"_OS\"\n",
    "    \n",
    "    ##### YOUR CODE HERE\n",
    "    for ex in corpus.get_examples_for_entities(kbt.sbj, kbt.obj):\n",
    "        for word in ex.middle.split(' '):\n",
    "            feature_counter[word+subject_object_suffix] += 1\n",
    "    for ex in corpus.get_examples_for_entities(kbt.obj, kbt.sbj):\n",
    "        for word in ex.middle.split(' '):\n",
    "            feature_counter[word+object_subject_suffix] += 1\n",
    "    return feature_counter\n",
    "\n",
    "\n",
    "# Call to `rel_ext.experiment`:\n",
    "##### YOUR CODE HERE    \n",
    "directional_results = rel_ext.experiment(\n",
    "        splits,\n",
    "        train_split='train',\n",
    "        test_split='dev',\n",
    "        featurizers = [directional_bag_of_words_featurizer],\n",
    "        model_factory=model_factory,\n",
    "        verbose=True)\n",
    "\n"
   ]
  },
  {
   "cell_type": "code",
   "execution_count": 22,
   "metadata": {},
   "outputs": [],
   "source": [
    "def test_directional_bag_of_words_featurizer(corpus):\n",
    "    from collections import defaultdict\n",
    "    kbt = rel_ext.KBTriple(rel='worked_at', sbj='Randall_Munroe', obj='xkcd')\n",
    "    feature_counter = defaultdict(int)\n",
    "    # Make sure `feature_counter` is being updated, not reinitialized:\n",
    "    feature_counter['is_OS'] += 5\n",
    "    feature_counter = directional_bag_of_words_featurizer(kbt, corpus, feature_counter)\n",
    "    expected = defaultdict(\n",
    "        int, {'is_OS':6,'a_OS':1,'webcomic_OS':1,'created_OS':1,'by_OS':1})\n",
    "    assert feature_counter == expected, \\\n",
    "        \"Expected:\\n{}\\nGot:\\n{}\".format(expected, feature_counter)"
   ]
  },
  {
   "cell_type": "code",
   "execution_count": 23,
   "metadata": {},
   "outputs": [],
   "source": [
    "if 'IS_GRADESCOPE_ENV' not in os.environ:\n",
    "    test_directional_bag_of_words_featurizer(corpus)"
   ]
  },
  {
   "cell_type": "markdown",
   "metadata": {},
   "source": [
    "### The part-of-speech tags of the \"middle\" words [1.5 points]\n",
    "\n",
    "Our corpus distribution contains part-of-speech (POS) tagged versions of the core text spans. Let's begin to explore whether there is information in these sequences, focusing on `middle_POS`.\n",
    "\n",
    "__To submit:__\n",
    "\n",
    "1. A feature function `middle_bigram_pos_tag_featurizer` that is just like `simple_bag_of_words_featurizer` except that it creates a feature for bigram POS sequences. For example, given \n",
    "\n",
    "  `The/DT dog/N napped/V`\n",
    "  \n",
    "   we obtain the list of bigram POS sequences\n",
    "  \n",
    "   `b = ['<s> DT', 'DT N', 'N V', 'V </s>']`. \n",
    "   \n",
    "   Of course, `middle_bigram_pos_tag_featurizer` should return count dictionaries defined in terms of such bigram POS lists, on the model of `simple_bag_of_words_featurizer`.  Don't forget the start and end tags, to model those environments properly! The included function `test_middle_bigram_pos_tag_featurizer` should help verify that you've done this correctly.\n",
    "\n",
    "2. A call to `rel_ext.experiment` with `middle_bigram_pos_tag_featurizer` as the only featurizer. (Aside from this, use all the default values for `rel_ext.experiment` as exemplified above in this notebook.)"
   ]
  },
  {
   "cell_type": "code",
   "execution_count": 20,
   "metadata": {},
   "outputs": [
    {
     "name": "stdout",
     "output_type": "stream",
     "text": [
      "relation              precision     recall    f-score    support       size\n",
      "------------------    ---------  ---------  ---------  ---------  ---------\n",
      "adjoins                   0.884      0.335      0.666        340       5716\n",
      "author                    0.697      0.334      0.572        509       5885\n",
      "capital                   0.500      0.158      0.349         95       5471\n",
      "contains                  0.761      0.600      0.722       3904       9280\n",
      "film_performance          0.706      0.450      0.634        766       6142\n",
      "founders                  0.591      0.179      0.405        380       5756\n",
      "genre                     0.596      0.182      0.410        170       5546\n",
      "has_sibling               0.623      0.162      0.397        499       5875\n",
      "has_spouse                0.775      0.266      0.560        594       5970\n",
      "is_a                      0.622      0.179      0.416        497       5873\n",
      "nationality               0.382      0.070      0.202        301       5677\n",
      "parents                   0.648      0.253      0.494        312       5688\n",
      "place_of_birth            0.592      0.180      0.406        233       5609\n",
      "place_of_death            0.424      0.088      0.241        159       5535\n",
      "profession                0.625      0.182      0.421        247       5623\n",
      "worked_at                 0.558      0.120      0.322        242       5618\n",
      "------------------    ---------  ---------  ---------  ---------  ---------\n",
      "macro-average             0.624      0.234      0.451       9248      95264\n"
     ]
    }
   ],
   "source": [
    "def middle_bigram_pos_tag_featurizer(kbt, corpus, feature_counter):\n",
    "    \n",
    "    ##### YOUR CODE HERE\n",
    "    for ex in corpus.get_examples_for_entities(kbt.sbj, kbt.obj):\n",
    "        #get a list of bigram str \n",
    "        #count appearance of each bigram pair \n",
    "        bigram_list = get_tag_bigrams(ex.middle_POS)\n",
    "        for bigram in bigram_list:\n",
    "            feature_counter[bigram] += 1\n",
    "    for ex in corpus.get_examples_for_entities(kbt.obj, kbt.sbj):\n",
    "        bigram_list = get_tag_bigrams(ex.middle_POS)   \n",
    "        for bigram in bigram_list:\n",
    "            feature_counter[bigram] += 1\n",
    "\n",
    "    return feature_counter\n",
    "\n",
    "\n",
    "def get_tag_bigrams(s):\n",
    "    \"\"\"Suggested helper method for `middle_bigram_pos_tag_featurizer`.\n",
    "    This should be defined so that it returns a list of str, where each \n",
    "    element is a POS bigram.\"\"\"\n",
    "    # The values of `start_symbol` and `end_symbol` are defined\n",
    "    # here so that you can use `test_middle_bigram_pos_tag_featurizer`.\n",
    "    start_symbol = \"<s>\"\n",
    "    end_symbol = \"</s>\"\n",
    "    \n",
    "    ##### YOUR CODE HERE\n",
    "    #a list of tags from sentence \n",
    "    result =[]\n",
    "    tag = get_tags(s)    \n",
    "    for i in zip([start_symbol]+tag, tag+[end_symbol]):\n",
    "        result.append(i[0] + ' ' +i[1])\n",
    "        \n",
    "    return result\n",
    "\n",
    "    \n",
    "def get_tags(s): \n",
    "    \"\"\"Given a sequence of word/POS elements (lemmas), this function\n",
    "    returns a list containing just the POS elements, in order.    \n",
    "    \"\"\"\n",
    "    return [parse_lem(lem)[1] for lem in s.strip().split(' ') if lem]\n",
    "\n",
    "\n",
    "def parse_lem(lem):\n",
    "    \"\"\"Helper method for parsing word/POS elements. It just splits\n",
    "    on the rightmost / and returns (word, POS) as a tuple of str.\"\"\"\n",
    "    return lem.strip().rsplit('/', 1)  \n",
    "\n",
    "# Call to `rel_ext.experiment`:\n",
    "##### YOUR CODE HERE\n",
    "bigram_results = rel_ext.experiment(\n",
    "        splits,\n",
    "        train_split='train',\n",
    "        test_split='dev',\n",
    "        featurizers = [middle_bigram_pos_tag_featurizer],\n",
    "        model_factory=model_factory,\n",
    "        verbose=True)\n",
    "\n"
   ]
  },
  {
   "cell_type": "code",
   "execution_count": 25,
   "metadata": {},
   "outputs": [],
   "source": [
    "def test_middle_bigram_pos_tag_featurizer(corpus):\n",
    "    from collections import defaultdict\n",
    "    kbt = rel_ext.KBTriple(rel='worked_at', sbj='Randall_Munroe', obj='xkcd')\n",
    "    feature_counter = defaultdict(int)\n",
    "    # Make sure `feature_counter` is being updated, not reinitialized:\n",
    "    feature_counter['<s> VBZ'] += 5\n",
    "    feature_counter = middle_bigram_pos_tag_featurizer(kbt, corpus, feature_counter)\n",
    "    expected = defaultdict(\n",
    "        int, {'<s> VBZ':6,'VBZ DT':1,'DT JJ':1,'JJ VBN':1,'VBN IN':1,'IN </s>':1})\n",
    "    assert feature_counter == expected, \\\n",
    "        \"Expected:\\n{}\\nGot:\\n{}\".format(expected, feature_counter)"
   ]
  },
  {
   "cell_type": "code",
   "execution_count": 26,
   "metadata": {},
   "outputs": [],
   "source": [
    "if 'IS_GRADESCOPE_ENV' not in os.environ:\n",
    "    test_middle_bigram_pos_tag_featurizer(corpus)"
   ]
  },
  {
   "cell_type": "markdown",
   "metadata": {},
   "source": [
    "### Bag of Synsets [2 points]\n",
    "\n",
    "The following allows you to use NLTK's WordNet API to get the synsets compatible with _dog_ as used as a noun:\n",
    "\n",
    "```\n",
    "from nltk.corpus import wordnet as wn\n",
    "dog = wn.synsets('dog', pos='n')\n",
    "dog\n",
    "[Synset('dog.n.01'),\n",
    " Synset('frump.n.01'),\n",
    " Synset('dog.n.03'),\n",
    " Synset('cad.n.01'),\n",
    " Synset('frank.n.02'),\n",
    " Synset('pawl.n.01'),\n",
    " Synset('andiron.n.01')]\n",
    "```\n",
    "\n",
    "This question asks you to create synset-based features from the word/tag pairs in `middle_POS`.\n",
    "\n",
    "__To submit:__\n",
    "\n",
    "1. A feature function `synset_featurizer` that is just like `simple_bag_of_words_featurizer` except that it returns a list of synsets derived from `middle_POS`. Stringify these objects with `str` so that they can be `dict` keys. Use `convert_tag` (included below) to convert tags to `pos` arguments usable by `wn.synsets`. The included function `test_synset_featurizer` should help verify that you've done this correctly.\n",
    "\n",
    "2. A call to `rel_ext.experiment` with `synset_featurizer` as the only featurizer. (Aside from this, use all the default values for `rel_ext.experiment`.)"
   ]
  },
  {
   "cell_type": "code",
   "execution_count": 21,
   "metadata": {},
   "outputs": [
    {
     "name": "stderr",
     "output_type": "stream",
     "text": [
      "/Users/catherinewang/opt/anaconda3/envs/nlu/lib/python3.7/site-packages/sklearn/svm/_base.py:947: ConvergenceWarning: Liblinear failed to converge, increase the number of iterations.\n",
      "  \"the number of iterations.\", ConvergenceWarning)\n"
     ]
    },
    {
     "name": "stdout",
     "output_type": "stream",
     "text": [
      "relation              precision     recall    f-score    support       size\n",
      "------------------    ---------  ---------  ---------  ---------  ---------\n",
      "adjoins                   0.839      0.353      0.658        340       5716\n",
      "author                    0.758      0.456      0.669        509       5885\n",
      "capital                   0.588      0.211      0.433         95       5471\n",
      "contains                  0.792      0.590      0.742       3904       9280\n",
      "film_performance          0.781      0.557      0.723        766       6142\n",
      "founders                  0.718      0.382      0.610        380       5756\n",
      "genre                     0.552      0.218      0.422        170       5546\n",
      "has_sibling               0.873      0.220      0.548        499       5875\n",
      "has_spouse                0.812      0.298      0.604        594       5970\n",
      "is_a                      0.615      0.225      0.457        497       5873\n",
      "nationality               0.488      0.140      0.326        301       5677\n",
      "parents                   0.831      0.535      0.748        312       5688\n",
      "place_of_birth            0.505      0.206      0.392        233       5609\n",
      "place_of_death            0.381      0.101      0.245        159       5535\n",
      "profession                0.494      0.154      0.342        247       5623\n",
      "worked_at                 0.628      0.244      0.477        242       5618\n",
      "------------------    ---------  ---------  ---------  ---------  ---------\n",
      "macro-average             0.666      0.306      0.525       9248      95264\n"
     ]
    }
   ],
   "source": [
    "from nltk.corpus import wordnet as wn\n",
    "\n",
    "def synset_featurizer(kbt, corpus, feature_counter):\n",
    "    \n",
    "    ##### YOUR CODE HERE\n",
    "    for ex in corpus.get_examples_for_entities(kbt.sbj, kbt.obj): \n",
    "        #get a list of synsets\n",
    "        synset_list = get_synsets(ex.middle_POS)\n",
    "        #flatten the list \n",
    "        flatten_synset = [item for items in synset_list for item in items]\n",
    "        for synet in flatten_synset:\n",
    "            feature_counter[str(synet)] += 1\n",
    "            \n",
    "    for ex in corpus.get_examples_for_entities(kbt.obj, kbt.sbj):\n",
    "        synset_list = get_synsets(ex.middle_POS)   \n",
    "        flatten_synset = [item for items in synset_list for item in items]\n",
    "        for synet in flatten_synset:\n",
    "            feature_counter[str(synet)] += 1\n",
    "\n",
    "    return feature_counter\n",
    "\n",
    "\n",
    "\n",
    "def get_synsets(s):\n",
    "    \"\"\"Suggested helper method for `synset_featurizer`. This should\n",
    "    be completed so that it returns a list of stringified Synsets \n",
    "    associated with elements of `s`.\n",
    "    \"\"\"   \n",
    "    # Use `parse_lem` from the previous question to get a list of\n",
    "    # (word, POS) pairs. Remember to convert the POS strings.\n",
    "    wt = [parse_lem(lem) for lem in s.strip().split(' ') if lem]\n",
    "    \n",
    "    ##### YOUR CODE HERE\n",
    "    converted_wt = []\n",
    "    for i in wt:\n",
    "        converted_tag = convert_tag(i[1])\n",
    "        word =i[0]\n",
    "        converted_wt.append([word,converted_tag])\n",
    "        \n",
    "    return [wn.synsets(i[0], pos=i[1]) for i in converted_wt]\n",
    "\n",
    "    \n",
    "    \n",
    "def convert_tag(t):\n",
    "    \"\"\"Converts tags so that they can be used by WordNet:\n",
    "    \n",
    "    | Tag begins with | WordNet tag |\n",
    "    |-----------------|-------------|\n",
    "    | `N`             | `n`         |\n",
    "    | `V`             | `v`         |\n",
    "    | `J`             | `a`         |\n",
    "    | `R`             | `r`         |\n",
    "    | Otherwise       | `None`      |\n",
    "    \"\"\"        \n",
    "    if t[0].lower() in {'n', 'v', 'r'}:\n",
    "        return t[0].lower()\n",
    "    elif t[0].lower() == 'J':\n",
    "        return 'a'\n",
    "    else:\n",
    "        return None    \n",
    "\n",
    "\n",
    "# Call to `rel_ext.experiment`:\n",
    "##### YOUR CODE HERE    \n",
    "synsets_results = rel_ext.experiment(\n",
    "        splits,\n",
    "        train_split='train',\n",
    "        test_split='dev',\n",
    "        featurizers = [synset_featurizer],\n",
    "        model_factory=model_factory,\n",
    "        verbose=True)\n",
    "\n"
   ]
  },
  {
   "cell_type": "code",
   "execution_count": 14,
   "metadata": {},
   "outputs": [],
   "source": [
    "def test_synset_featurizer(corpus):\n",
    "    from collections import defaultdict\n",
    "    kbt = rel_ext.KBTriple(rel='worked_at', sbj='Randall_Munroe', obj='xkcd')\n",
    "    feature_counter = defaultdict(int)\n",
    "    # Make sure `feature_counter` is being updated, not reinitialized:\n",
    "    feature_counter[\"Synset('be.v.01')\"] += 5\n",
    "    feature_counter = synset_featurizer(kbt, corpus, feature_counter)\n",
    "    # The full return values for this tend to be long, so we just\n",
    "    # test a few examples to avoid cluttering up this notebook.\n",
    "    test_cases = {\n",
    "        \"Synset('be.v.01')\": 6,\n",
    "        \"Synset('embody.v.02')\": 1\n",
    "    }\n",
    "    for ss, expected in test_cases.items():   \n",
    "        result = feature_counter[ss]\n",
    "        assert result == expected, \\\n",
    "            \"Incorrect count for {}: Expected {}; Got {}\".format(ss, expected, result)"
   ]
  },
  {
   "cell_type": "code",
   "execution_count": 29,
   "metadata": {},
   "outputs": [],
   "source": [
    "if 'IS_GRADESCOPE_ENV' not in os.environ:\n",
    "    test_synset_featurizer(corpus)"
   ]
  },
  {
   "cell_type": "markdown",
   "metadata": {},
   "source": [
    "### Your original system [3 points]\n",
    "\n",
    "There are many options, and this could easily grow into a project. Here are a few ideas:\n",
    "\n",
    "- Try out different classifier models, from `sklearn` and elsewhere.\n",
    "- Add a feature that indicates the length of the middle.\n",
    "- Augment the bag-of-words representation to include bigrams or trigrams (not just unigrams).\n",
    "- Introduce features based on the entity mentions themselves. <!-- \\[SPOILER: it helps a lot, maybe 4% in F-score. And combines nicely with the directional features.\\] -->\n",
    "- Experiment with features based on the context outside (rather than between) the two entity mentions — that is, the words before the first mention, or after the second.\n",
    "- Try adding features which capture syntactic information, such as the dependency-path features used by Mintz et al. 2009. The [NLTK](https://www.nltk.org/) toolkit contains a variety of [parsing algorithms](http://www.nltk.org/api/nltk.parse.html) that may help.\n",
    "- The bag-of-words representation does not permit generalization across word categories such as names of people, places, or companies. Can we do better using word embeddings such as [GloVe](https://nlp.stanford.edu/projects/glove/)?\n",
    "\n",
    "In the cell below, please provide a brief technical description of your original system, so that the teaching team can gain an understanding of what it does. This will help us to understand your code and analyze all the submissions to identify patterns and strategies."
   ]
  },
  {
   "cell_type": "code",
   "execution_count": null,
   "metadata": {},
   "outputs": [],
   "source": [
    "# Enter your system description in this cell.\n",
    "# Please do not remove this comment.\n",
    "\n",
    "'''\n",
    "From my own experience, desigining better feature will give the relation extraction system a boost than \n",
    "stacking comlicated Machine Learning Models.\n",
    "So the focus of my system will be on experiencing different featurizers.\n",
    "\n",
    "Featurizer ideas: \n",
    "1. So far we are just buidling feature based on the [mideel] and [middle_POS], we should be using the \n",
    "same techniques to see if we can identify some common pattern on the [left] or [right] words. \n",
    "2. From bidirectional give a simple system a noticible boost, so this technique will be applied to most \n",
    "of the featurizers. \n",
    "3. We have tried bigram, should also try trigram ? \n",
    "4. From experience, SCV don't give a good result and took a long time to train, so i will be mainly using \n",
    "logistic regression for modeling. If have time will try random forest. \n",
    "\n",
    "\n",
    "'''"
   ]
  },
  {
   "cell_type": "code",
   "execution_count": 22,
   "metadata": {},
   "outputs": [
    {
     "name": "stdout",
     "output_type": "stream",
     "text": [
      "relation              precision     recall    f-score    support       size\n",
      "------------------    ---------  ---------  ---------  ---------  ---------\n",
      "adjoins                   0.857      0.406      0.701        340       5716\n",
      "author                    0.841      0.642      0.792        509       5885\n",
      "capital                   0.706      0.253      0.519         95       5471\n",
      "contains                  0.836      0.669      0.796       3904       9280\n",
      "film_performance          0.832      0.715      0.805        766       6142\n",
      "founders                  0.830      0.424      0.696        380       5756\n",
      "genre                     0.690      0.341      0.573        170       5546\n",
      "has_sibling               0.798      0.261      0.565        499       5875\n",
      "has_spouse                0.871      0.374      0.688        594       5970\n",
      "is_a                      0.731      0.334      0.591        497       5873\n",
      "nationality               0.589      0.252      0.465        301       5677\n",
      "parents                   0.863      0.545      0.773        312       5688\n",
      "place_of_birth            0.667      0.258      0.506        233       5609\n",
      "place_of_death            0.479      0.145      0.328        159       5535\n",
      "profession                0.713      0.332      0.580        247       5623\n",
      "worked_at                 0.738      0.326      0.590        242       5618\n",
      "------------------    ---------  ---------  ---------  ---------  ---------\n",
      "macro-average             0.752      0.392      0.623       9248      95264\n"
     ]
    }
   ],
   "source": [
    "#1. try on stacking existing featurizer \n",
    "featurizers_1 = [simple_bag_of_words_featurizer,directional_bag_of_words_featurizer,\n",
    "                 middle_bigram_pos_tag_featurizer]\n",
    "model_factory_1 = lambda: LogisticRegression(fit_intercept=True, solver='liblinear')\n",
    "\n",
    "model1_results = rel_ext.experiment(\n",
    "    splits,\n",
    "    train_split='train',\n",
    "    test_split='dev',\n",
    "    featurizers=featurizers_1,\n",
    "    model_factory=model_factory_1,\n",
    "    #vectorize=False,\n",
    "    verbose=True)"
   ]
  },
  {
   "cell_type": "code",
   "execution_count": null,
   "metadata": {},
   "outputs": [],
   "source": [
    "#2. try different model\n",
    "from sklearn.ensemble import RandomForestClassifier\n",
    "model_factory_2 = lambda: RandomForestClassifier(max_depth=2, random_state=0) #\n",
    "\n",
    "model2_results = rel_ext.experiment(\n",
    "    splits,\n",
    "    train_split='train',\n",
    "    test_split='dev',\n",
    "    featurizers=featurizers_1,\n",
    "    model_factory=model_factory_2,\n",
    "    #vectorize=False,\n",
    "    verbose=True)\n",
    "\n",
    "#!!!! :( bad result, need more tuning "
   ]
  },
  {
   "cell_type": "code",
   "execution_count": 26,
   "metadata": {},
   "outputs": [],
   "source": [
    "def left_bag_of_words_featurizer(kbt, corpus, feature_counter):\n",
    "    for ex in corpus.get_examples_for_entities(kbt.sbj, kbt.obj):\n",
    "        for word in ex.left.split(' '):\n",
    "            feature_counter[word] += 1\n",
    "    for ex in corpus.get_examples_for_entities(kbt.obj, kbt.sbj):\n",
    "        for word in ex.left.split(' '):\n",
    "            feature_counter[word] += 1\n",
    "    return feature_counter"
   ]
  },
  {
   "cell_type": "code",
   "execution_count": 27,
   "metadata": {},
   "outputs": [],
   "source": [
    "def right_bag_of_words_featurizer(kbt, corpus, feature_counter):\n",
    "    for ex in corpus.get_examples_for_entities(kbt.sbj, kbt.obj):\n",
    "        for word in ex.right.split(' '):\n",
    "            feature_counter[word] += 1\n",
    "    for ex in corpus.get_examples_for_entities(kbt.obj, kbt.sbj):\n",
    "        for word in ex.right.split(' '):\n",
    "            feature_counter[word] += 1\n",
    "    return feature_counter"
   ]
  },
  {
   "cell_type": "code",
   "execution_count": 28,
   "metadata": {},
   "outputs": [
    {
     "name": "stdout",
     "output_type": "stream",
     "text": [
      "relation              precision     recall    f-score    support       size\n",
      "------------------    ---------  ---------  ---------  ---------  ---------\n",
      "adjoins                   0.880      0.474      0.751        340       5716\n",
      "author                    0.857      0.766      0.837        509       5885\n",
      "capital                   0.550      0.232      0.431         95       5471\n",
      "contains                  0.833      0.747      0.814       3904       9280\n",
      "film_performance          0.848      0.736      0.823        766       6142\n",
      "founders                  0.670      0.384      0.583        380       5756\n",
      "genre                     0.722      0.306      0.568        170       5546\n",
      "has_sibling               0.812      0.675      0.780        499       5875\n",
      "has_spouse                0.810      0.658      0.774        594       5970\n",
      "is_a                      0.703      0.565      0.670        497       5873\n",
      "nationality               0.701      0.615      0.682        301       5677\n",
      "parents                   0.852      0.737      0.826        312       5688\n",
      "place_of_birth            0.755      0.489      0.681        233       5609\n",
      "place_of_death            0.674      0.403      0.594        159       5535\n",
      "profession                0.752      0.502      0.684        247       5623\n",
      "worked_at                 0.750      0.347      0.609        242       5618\n",
      "------------------    ---------  ---------  ---------  ---------  ---------\n",
      "macro-average             0.760      0.540      0.694       9248      95264\n"
     ]
    }
   ],
   "source": [
    "#3. try on stacking other featurizers, synset_featurizer introduce noise rather than information to the model \n",
    "featurizers_3 = [simple_bag_of_words_featurizer,directional_bag_of_words_featurizer,\n",
    "                 middle_bigram_pos_tag_featurizer,left_bag_of_words_featurizer,right_bag_of_words_featurizer]\n",
    "\n",
    "model_factory_3 = lambda: LogisticRegression(fit_intercept=True, solver='liblinear')\n",
    "\n",
    "model3_results = rel_ext.experiment(\n",
    "    splits,\n",
    "    train_split='train',\n",
    "    test_split='dev',\n",
    "    featurizers=featurizers_3,\n",
    "    model_factory=model_factory_3,\n",
    "    #vectorize=False,\n",
    "    verbose=True)\n"
   ]
  },
  {
   "cell_type": "code",
   "execution_count": 29,
   "metadata": {},
   "outputs": [],
   "source": [
    "def middle_unigram_pos_tag_featurizer(kbt, corpus, feature_counter):\n",
    "    \n",
    "    ##### YOUR CODE HERE\n",
    "    for ex in corpus.get_examples_for_entities(kbt.sbj, kbt.obj):\n",
    "        #get a list of bigram str \n",
    "        #count appearance of each bigram pair \n",
    "        unigram_list = get_tags(ex.middle_POS)\n",
    "        for unigram in unigram_list:\n",
    "            feature_counter[unigram] += 1\n",
    "    for ex in corpus.get_examples_for_entities(kbt.obj, kbt.sbj):\n",
    "        unigram_list = get_tags(ex.middle_POS)   \n",
    "        for unigram in unigram_list:\n",
    "            feature_counter[unigram] += 1\n",
    "\n",
    "    return feature_counter"
   ]
  },
  {
   "cell_type": "code",
   "execution_count": 30,
   "metadata": {},
   "outputs": [
    {
     "name": "stdout",
     "output_type": "stream",
     "text": [
      "relation              precision     recall    f-score    support       size\n",
      "------------------    ---------  ---------  ---------  ---------  ---------\n",
      "adjoins                   0.883      0.488      0.760        340       5716\n",
      "author                    0.847      0.764      0.829        509       5885\n",
      "capital                   0.550      0.232      0.431         95       5471\n",
      "contains                  0.837      0.747      0.817       3904       9280\n",
      "film_performance          0.847      0.736      0.822        766       6142\n",
      "founders                  0.681      0.387      0.591        380       5756\n",
      "genre                     0.714      0.294      0.556        170       5546\n",
      "has_sibling               0.814      0.683      0.784        499       5875\n",
      "has_spouse                0.802      0.657      0.768        594       5970\n",
      "is_a                      0.711      0.563      0.675        497       5873\n",
      "nationality               0.705      0.611      0.684        301       5677\n",
      "parents                   0.851      0.734      0.825        312       5688\n",
      "place_of_birth            0.731      0.489      0.665        233       5609\n",
      "place_of_death            0.644      0.409      0.577        159       5535\n",
      "profession                0.743      0.502      0.678        247       5623\n",
      "worked_at                 0.735      0.343      0.598        242       5618\n",
      "------------------    ---------  ---------  ---------  ---------  ---------\n",
      "macro-average             0.756      0.540      0.691       9248      95264\n"
     ]
    }
   ],
   "source": [
    "#4. try on stacking other featurizers, synset_featurizer introduce noise rather than information to the model \n",
    "featurizers_4 = [simple_bag_of_words_featurizer,directional_bag_of_words_featurizer,\n",
    "                 middle_bigram_pos_tag_featurizer,left_bag_of_words_featurizer,right_bag_of_words_featurizer,\n",
    "                middle_unigram_pos_tag_featurizer]\n",
    "\n",
    "model_factory_4 = lambda: LogisticRegression(fit_intercept=True, solver='liblinear')\n",
    "\n",
    "model3_results = rel_ext.experiment(\n",
    "    splits,\n",
    "    train_split='train',\n",
    "    test_split='dev',\n",
    "    featurizers=featurizers_4,\n",
    "    model_factory=model_factory_4,\n",
    "    #vectorize=False,\n",
    "    verbose=True)"
   ]
  },
  {
   "cell_type": "code",
   "execution_count": 40,
   "metadata": {},
   "outputs": [],
   "source": [
    "def get_bigrams(s):\n",
    "    result =[] \n",
    "    for i in zip(s[:-1], s[1:]):\n",
    "        result.append(i[0] + ' ' +i[1])        \n",
    "    return result\n",
    "\n",
    "def simple_bigram_featurizer(kbt, corpus, feature_counter):\n",
    "    for ex in corpus.get_examples_for_entities(kbt.sbj, kbt.obj):\n",
    "        unigram = ex.middle.split(' ')\n",
    "        bigram = get_bigrams(unigram)\n",
    "        for i in bigram:\n",
    "            feature_counter[i] += 1\n",
    "    for ex in corpus.get_examples_for_entities(kbt.obj, kbt.sbj):\n",
    "        unigram = ex.middle.split(' ')\n",
    "        bigram = get_bigrams(unigram)\n",
    "        for i in bigram:\n",
    "            feature_counter[i] += 1\n",
    "    return feature_counter"
   ]
  },
  {
   "cell_type": "code",
   "execution_count": 42,
   "metadata": {},
   "outputs": [
    {
     "name": "stdout",
     "output_type": "stream",
     "text": [
      "relation              precision     recall    f-score    support       size\n",
      "------------------    ---------  ---------  ---------  ---------  ---------\n",
      "adjoins                   0.873      0.485      0.753        340       5716\n",
      "author                    0.862      0.774      0.843        509       5885\n",
      "capital                   0.590      0.242      0.458         95       5471\n",
      "contains                  0.840      0.751      0.821       3904       9280\n",
      "film_performance          0.841      0.739      0.818        766       6142\n",
      "founders                  0.718      0.395      0.617        380       5756\n",
      "genre                     0.750      0.335      0.601        170       5546\n",
      "has_sibling               0.816      0.677      0.784        499       5875\n",
      "has_spouse                0.807      0.662      0.773        594       5970\n",
      "is_a                      0.727      0.561      0.686        497       5873\n",
      "nationality               0.732      0.635      0.710        301       5677\n",
      "parents                   0.860      0.750      0.836        312       5688\n",
      "place_of_birth            0.757      0.468      0.674        233       5609\n",
      "place_of_death            0.667      0.390      0.584        159       5535\n",
      "profession                0.764      0.510      0.695        247       5623\n",
      "worked_at                 0.742      0.368      0.616        242       5618\n",
      "------------------    ---------  ---------  ---------  ---------  ---------\n",
      "macro-average             0.772      0.546      0.704       9248      95264\n"
     ]
    }
   ],
   "source": [
    "#5. adding bigram  \n",
    "featurizers_5 = [simple_bag_of_words_featurizer,directional_bag_of_words_featurizer,\n",
    "                 simple_bigram_featurizer,\n",
    "                 left_bag_of_words_featurizer,right_bag_of_words_featurizer,\n",
    "                 middle_bigram_pos_tag_featurizer,middle_unigram_pos_tag_featurizer\n",
    "                ]\n",
    "\n",
    "model5_results = rel_ext.experiment(\n",
    "    splits,\n",
    "    train_split='train',\n",
    "    test_split='dev',\n",
    "    featurizers=featurizers_5,\n",
    "    model_factory=model_factory_4,\n",
    "    #vectorize=False,\n",
    "    verbose=True)"
   ]
  },
  {
   "cell_type": "code",
   "execution_count": 44,
   "metadata": {},
   "outputs": [],
   "source": [
    "def directional_bigram_featurizer(kbt, corpus, feature_counter): \n",
    "    # Append these to the end of the keys you add/access in \n",
    "    # `feature_counter` to distinguish the two orders. You'll\n",
    "    # need to use exactly these strings in order to pass \n",
    "    # `test_directional_bag_of_words_featurizer`.\n",
    "    subject_object_suffix = \"_SO\"\n",
    "    object_subject_suffix = \"_OS\"\n",
    "    \n",
    "    ##### YOUR CODE HERE\n",
    "    for ex in corpus.get_examples_for_entities(kbt.sbj, kbt.obj):\n",
    "        unigram = ex.middle.split(' ')\n",
    "        bigram = get_bigrams(unigram)\n",
    "        for i in bigram:\n",
    "            feature_counter[i+subject_object_suffix] += 1\n",
    "    for ex in corpus.get_examples_for_entities(kbt.obj, kbt.sbj):\n",
    "        unigram = ex.middle.split(' ')\n",
    "        bigram = get_bigrams(unigram)\n",
    "        for i in bigram:\n",
    "            feature_counter[i+object_subject_suffix] += 1\n",
    "    return feature_counter"
   ]
  },
  {
   "cell_type": "code",
   "execution_count": 47,
   "metadata": {},
   "outputs": [
    {
     "name": "stdout",
     "output_type": "stream",
     "text": [
      "relation              precision     recall    f-score    support       size\n",
      "------------------    ---------  ---------  ---------  ---------  ---------\n",
      "adjoins                   0.885      0.474      0.754        340       5716\n",
      "author                    0.866      0.776      0.847        509       5885\n",
      "capital                   0.585      0.253      0.463         95       5471\n",
      "contains                  0.842      0.752      0.822       3904       9280\n",
      "film_performance          0.841      0.736      0.817        766       6142\n",
      "founders                  0.737      0.405      0.633        380       5756\n",
      "genre                     0.734      0.341      0.597        170       5546\n",
      "has_sibling               0.819      0.679      0.787        499       5875\n",
      "has_spouse                0.746      0.401      0.636        594       5970\n",
      "is_a                      0.733      0.563      0.691        497       5873\n",
      "nationality               0.746      0.645      0.723        301       5677\n",
      "parents                   0.867      0.750      0.841        312       5688\n",
      "place_of_birth            0.764      0.459      0.675        233       5609\n",
      "place_of_death            0.701      0.384      0.602        159       5535\n",
      "profession                0.685      0.344      0.572        247       5623\n",
      "worked_at                 0.748      0.355      0.613        242       5618\n",
      "------------------    ---------  ---------  ---------  ---------  ---------\n",
      "macro-average             0.769      0.520      0.692       9248      95264\n"
     ]
    }
   ],
   "source": [
    "#6. adding bigram  \n",
    "featurizers_6 = [simple_bag_of_words_featurizer,directional_bag_of_words_featurizer,\n",
    "                 simple_bigram_featurizer,directional_bigram_featurizer,\n",
    "                 left_bag_of_words_featurizer,right_bag_of_words_featurizer,\n",
    "                 middle_bigram_pos_tag_featurizer,middle_unigram_pos_tag_featurizer\n",
    "                ]\n",
    "\n",
    "model6_results = rel_ext.experiment(\n",
    "    splits,\n",
    "    train_split='train',\n",
    "    test_split='dev',\n",
    "    featurizers=featurizers_6,\n",
    "    model_factory=model_factory_4,\n",
    "    #vectorize=False,\n",
    "    verbose=True)"
   ]
  },
  {
   "cell_type": "code",
   "execution_count": 52,
   "metadata": {},
   "outputs": [],
   "source": [
    "def middle_length_featurizer(kbt, corpus, feature_counter):\n",
    "    for ex in corpus.get_examples_for_entities(kbt.sbj, kbt.obj):\n",
    "        feature_counter[kbt.sbj+kbt.obj]+= len(ex.middle)\n",
    "    for ex in corpus.get_examples_for_entities(kbt.obj, kbt.sbj):\n",
    "        feature_counter[kbt.sbj+kbt.obj]+= len(ex.middle)\n",
    "    return feature_counter"
   ]
  },
  {
   "cell_type": "code",
   "execution_count": 55,
   "metadata": {},
   "outputs": [
    {
     "name": "stdout",
     "output_type": "stream",
     "text": [
      "relation              precision     recall    f-score    support       size\n",
      "------------------    ---------  ---------  ---------  ---------  ---------\n",
      "adjoins                   0.950      0.224      0.576        340       5716\n",
      "author                    0.856      0.631      0.799        509       5885\n",
      "capital                   0.500      0.032      0.126         95       5471\n",
      "contains                  0.835      0.754      0.818       3904       9280\n",
      "film_performance          0.815      0.530      0.736        766       6142\n",
      "founders                  0.809      0.300      0.604        380       5756\n",
      "genre                     0.750      0.159      0.430        170       5546\n",
      "has_sibling               0.839      0.553      0.760        499       5875\n",
      "has_spouse                0.837      0.500      0.737        594       5970\n",
      "is_a                      0.798      0.412      0.672        497       5873\n",
      "nationality               0.827      0.492      0.728        301       5677\n",
      "parents                   0.902      0.558      0.803        312       5688\n",
      "place_of_birth            0.846      0.330      0.645        233       5609\n",
      "place_of_death            0.852      0.289      0.613        159       5535\n",
      "profession                0.804      0.364      0.647        247       5623\n",
      "worked_at                 0.822      0.248      0.562        242       5618\n",
      "------------------    ---------  ---------  ---------  ---------  ---------\n",
      "macro-average             0.815      0.398      0.641       9248      95264\n"
     ]
    }
   ],
   "source": [
    "#7. adding bigram  \n",
    "featurizers_7 = [simple_bag_of_words_featurizer,directional_bag_of_words_featurizer,\n",
    "                 simple_bigram_featurizer,\n",
    "                 left_bag_of_words_featurizer,right_bag_of_words_featurizer,\n",
    "                 middle_bigram_pos_tag_featurizer,middle_unigram_pos_tag_featurizer,\n",
    "                 middle_length_featurizer\n",
    "                ]\n",
    "\n",
    "model6_results = rel_ext.experiment(\n",
    "    splits,\n",
    "    train_split='train',\n",
    "    test_split='dev',\n",
    "    featurizers=featurizers_7,\n",
    "    model_factory=model_factory_4,\n",
    "    #vectorize=False,\n",
    "    verbose=True)"
   ]
  },
  {
   "cell_type": "code",
   "execution_count": 81,
   "metadata": {},
   "outputs": [],
   "source": [
    "from nltk import ngrams\n",
    "\n",
    "def get_trigrams(s):\n",
    "    result =[] \n",
    "    n = 3\n",
    "    trigrams = ngrams(s.split(), 3)\n",
    "    for i in trigrams:\n",
    "        result.append(i[0] + ' ' +i[1] +' '+i[2])        \n",
    "    return result \n",
    "\n",
    "def simple_trigram_featurizer(kbt, corpus, feature_counter):\n",
    "    for ex in corpus.get_examples_for_entities(kbt.sbj, kbt.obj):\n",
    "        trigram = get_trigrams(ex.middle)\n",
    "        for i in trigram:\n",
    "            feature_counter[i] += 1\n",
    "    for ex in corpus.get_examples_for_entities(kbt.obj, kbt.sbj):\n",
    "        trigram = get_trigrams(ex.middle)\n",
    "        for i in trigram:\n",
    "            feature_counter[i] += 1\n",
    "    return feature_counter"
   ]
  },
  {
   "cell_type": "code",
   "execution_count": 82,
   "metadata": {},
   "outputs": [],
   "source": [
    "featurizers_8 = [simple_bag_of_words_featurizer,directional_bag_of_words_featurizer,\n",
    "                 simple_bigram_featurizer, simple_trigram_featurizer,\n",
    "                 left_bag_of_words_featurizer,right_bag_of_words_featurizer,\n",
    "                 middle_bigram_pos_tag_featurizer,middle_unigram_pos_tag_featurizer\n",
    "                ]"
   ]
  },
  {
   "cell_type": "markdown",
   "metadata": {},
   "source": [
    "## Bake-off [1 point]\n",
    "\n",
    "For the bake-off, we will release a test set. The announcement will go out on the discussion forum. You will evaluate your custom model from the previous question on these new datasets using the function `rel_ext.bake_off_experiment`. Rules:\n",
    "\n",
    "1. Only one evaluation is permitted.\n",
    "1. No additional system tuning is permitted once the bake-off has started.\n",
    "\n",
    "The cells below this one constitute your bake-off entry.\n",
    "\n",
    "People who enter will receive the additional homework point, and people whose systems achieve the top score will receive an additional 0.5 points. We will test the top-performing systems ourselves, and only systems for which we can reproduce the reported results will win the extra 0.5 points.\n",
    "\n",
    "Late entries will be accepted, but they cannot earn the extra 0.5 points. Similarly, you cannot win the bake-off unless your homework is submitted on time.\n",
    "\n",
    "The announcement will include the details on where to submit your entry."
   ]
  },
  {
   "cell_type": "code",
   "execution_count": 97,
   "metadata": {},
   "outputs": [
    {
     "name": "stdout",
     "output_type": "stream",
     "text": [
      "relation              precision     recall    f-score    support       size\n",
      "------------------    ---------  ---------  ---------  ---------  ---------\n",
      "adjoins                   0.887      0.539      0.786        438       7122\n",
      "author                    0.835      0.747      0.816        645       7329\n",
      "capital                   0.640      0.278      0.508        115       6799\n",
      "contains                  0.811      0.763      0.801       3808      10492\n",
      "film_performance          0.857      0.733      0.829       1011       7695\n",
      "founders                  0.652      0.410      0.583        444       7128\n",
      "genre                     0.633      0.330      0.534        188       6872\n",
      "has_sibling               0.879      0.660      0.824        717       7401\n",
      "has_spouse                0.815      0.687      0.785        780       7464\n",
      "is_a                      0.735      0.522      0.680        611       7295\n",
      "nationality               0.703      0.582      0.675        383       7067\n",
      "parents                   0.876      0.780      0.855        427       7111\n",
      "place_of_birth            0.764      0.502      0.692        291       6975\n",
      "place_of_death            0.580      0.345      0.510        200       6884\n",
      "profession                0.710      0.403      0.616        310       6994\n",
      "worked_at                 0.748      0.359      0.615        323       7007\n",
      "------------------    ---------  ---------  ---------  ---------  ---------\n",
      "macro-average             0.758      0.540      0.694      10691     117635\n"
     ]
    }
   ],
   "source": [
    "# Enter your bake-off assessment code in this cell. \n",
    "# Please do not remove this comment.\n",
    "if 'IS_GRADESCOPE_ENV' not in os.environ:\n",
    "    pass\n",
    "    # Please enter your code in the scope of the above conditional.\n",
    "    ##### YOUR CODE HERE\n",
    "    bakeoff_results = rel_ext.experiment(\n",
    "        splits,\n",
    "        train_split='train',\n",
    "        test_split='dev',\n",
    "        featurizers=featurizers_8,\n",
    "        model_factory=model_factory_1,\n",
    "        verbose=False) # We don't care about this eval, so skip its summary.\n",
    "\n",
    "    rel_ext_data_home_test = os.path.join(rel_ext_data_home, 'bakeoff-rel_ext-test-data')\n",
    "    rel_ext.bake_off_experiment(bakeoff_results, rel_ext_data_home_test)\n",
    "    \n",
    "\n",
    "\n",
    "\n"
   ]
  },
  {
   "cell_type": "code",
   "execution_count": null,
   "metadata": {},
   "outputs": [],
   "source": [
    "# On an otherwise blank line in this cell, please enter\n",
    "# your macro-average f-score (an F_0.5 score) as reported \n",
    "# by the code above. Please enter only a number between \n",
    "# 0 and 1 inclusive. Please do not remove this comment.\n",
    "if 'IS_GRADESCOPE_ENV' not in os.environ:\n",
    "    pass\n",
    "    # Please enter your score in the scope of the above conditional.\n",
    "    ##### YOUR CODE HERE\n",
    "    0.694\n",
    "\n"
   ]
  }
 ],
 "metadata": {
  "kernelspec": {
   "display_name": "Python 3",
   "language": "python",
   "name": "python3"
  },
  "language_info": {
   "codemirror_mode": {
    "name": "ipython",
    "version": 3
   },
   "file_extension": ".py",
   "mimetype": "text/x-python",
   "name": "python",
   "nbconvert_exporter": "python",
   "pygments_lexer": "ipython3",
   "version": "3.7.6"
  },
  "widgets": {
   "state": {},
   "version": "1.1.2"
  }
 },
 "nbformat": 4,
 "nbformat_minor": 2
}
