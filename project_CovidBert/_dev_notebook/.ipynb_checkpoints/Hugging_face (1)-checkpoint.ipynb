{
 "cells": [
  {
   "cell_type": "code",
   "execution_count": 2,
   "metadata": {},
   "outputs": [],
   "source": [
    "from tokenizers import BertWordPieceTokenizer, ByteLevelBPETokenizer\n",
    "import numpy as np # linear algebra\n",
    "import pandas as pd # data processing, CSV file I/O (e.g. pd.read_csv)\n",
    "import glob\n",
    "import json"
   ]
  },
  {
   "cell_type": "code",
   "execution_count": 3,
   "metadata": {},
   "outputs": [],
   "source": [
    "training_path = \"pretrain\"\n",
    "file_path = glob.glob(f'{training_path}/covidonly.train.sliding4-v1.txt', recursive=True)"
   ]
  },
  {
   "cell_type": "code",
   "execution_count": 4,
   "metadata": {},
   "outputs": [],
   "source": [
    "tokenizer = BertWordPieceTokenizer(\n",
    "    clean_text=True, handle_chinese_chars=False, strip_accents=True, lowercase=True,\n",
    ")\n",
    "\n",
    "tokenizer.train(\n",
    "    files = file_path,\n",
    "    vocab_size=30000,\n",
    "    min_frequency=2,\n",
    "    show_progress=True,\n",
    "    special_tokens=[\"[PAD]\", \"[UNK]\", \"[CLS]\", \"[SEP]\", \"[MASK]\"],\n",
    "    limit_alphabet=1000,\n",
    "    wordpieces_prefix=\"##\",\n",
    ")"
   ]
  },
  {
   "cell_type": "code",
   "execution_count": 12,
   "metadata": {},
   "outputs": [
    {
     "data": {
      "text/plain": [
       "['./pretrain/covid_vocab-vocab.txt']"
      ]
     },
     "execution_count": 12,
     "metadata": {},
     "output_type": "execute_result"
    }
   ],
   "source": [
    "tokenizer.save(\"./\"+training_path,'covid_vocab')\n",
    "#tokenizer.save(args.out, args.name)"
   ]
  },
  {
   "cell_type": "code",
   "execution_count": 13,
   "metadata": {},
   "outputs": [],
   "source": [
    "def train_tokenizer(PATH,OUT_DIR,NAME):\n",
    "    tokenizer = BertWordPieceTokenizer(\n",
    "        clean_text=True, handle_chinese_chars=False, strip_accents=True, lowercase=True,\n",
    "    )\n",
    "\n",
    "    tokenizer.train(\n",
    "        files = PATH,\n",
    "        vocab_size=30000,\n",
    "        min_frequency=2,\n",
    "        show_progress=True,\n",
    "        special_tokens=[\"[PAD]\", \"[UNK]\", \"[CLS]\", \"[SEP]\", \"[MASK]\"],\n",
    "        limit_alphabet=1000,\n",
    "        wordpieces_prefix=\"##\",\n",
    "    )\n",
    "    \n",
    "    tokenizer.save(\"./\"+OUT_DIR,NAME)"
   ]
  },
  {
   "cell_type": "code",
   "execution_count": 14,
   "metadata": {},
   "outputs": [],
   "source": [
    "train_tokenizer('pretrain/allpdf.train.sliding4-v1.txt','./pretrain','all_vocab')"
   ]
  },
  {
   "cell_type": "markdown",
   "metadata": {},
   "source": [
    "## setting up pretrain config "
   ]
  },
  {
   "cell_type": "code",
   "execution_count": 29,
   "metadata": {},
   "outputs": [],
   "source": [
    "config = {\n",
    "    \"architectures\": [\n",
    "        \"BertForMaskedLM\"\n",
    "    ],\n",
    "    \"attention_probs_dropout_prob\": 0.1,\n",
    "    \"hidden_act\": \"gelu\",\n",
    "    \"hidden_dropout_prob\": 0.1,\n",
    "    \"hidden_size\": 768,\n",
    "    \"initializer_range\": 0.02,\n",
    "    \"intermediate_size\": 3072,\n",
    "    \"layer_norm_eps\": 1e-12,\n",
    "    \"max_position_embeddings\": 512,\n",
    "    \"model_type\": \"bert\",\n",
    "    \"num_attention_heads\": 12,\n",
    "    \"num_hidden_layers\": 12,\n",
    "    \"pad_token_id\": 0,\n",
    "    \"type_vocab_size\": 1,\n",
    "    \"vocab_size\": 30000\n",
    "}\n",
    "\n",
    "with open(training_path+\"/config.json\", 'w') as fp:\n",
    "    json.dump(config, fp)\n",
    "\n",
    "tokenizer_config = {\n",
    "    \"max_len\": 512,\n",
    "    \"do_lower_case\": true\n",
    "}\n",
    "\n",
    "with open(training_path+\"/tokenizer_config.json\", 'w') as fp:\n",
    "    json.dump(tokenizer_config, fp)"
   ]
  },
  {
   "cell_type": "code",
   "execution_count": 28,
   "metadata": {},
   "outputs": [
    {
     "data": {
      "text/plain": [
       "'../data/pretrain/config.json'"
      ]
     },
     "execution_count": 28,
     "metadata": {},
     "output_type": "execute_result"
    }
   ],
   "source": [
    "training_path+\"/config.json\""
   ]
  },
  {
   "cell_type": "code",
   "execution_count": 19,
   "metadata": {},
   "outputs": [],
   "source": [
    "cmd =\"\"\"\n",
    "  python3 run_language_modeling.py \\\n",
    "  --output_dir ./new_model \\\n",
    "  --train_data_file ./pretrain/covid/covidonly.train.sliding4-v1.txt \\\n",
    "  --model_type bert \\\n",
    "  --model_name_or_path allenai/scibert_scivocab_uncased \\\n",
    "  --mlm \\\n",
    "  --config_name ./pretrain \\\n",
    "  --tokenizer_name ./pretrain \\\n",
    "  --do_train \\\n",
    "  --line_by_line \\\n",
    "  --learning_rate 1e-4 \\\n",
    "  --num_train_epochs 1 \\\n",
    "  --save_total_limit 2 \\\n",
    "  --save_steps 2000 \\\n",
    "  --per_gpu_train_batch_size 6 \\\n",
    "  --seed 42 \\\n",
    "\"\"\".replace(\"\\n\", \" \")"
   ]
  },
  {
   "cell_type": "code",
   "execution_count": 20,
   "metadata": {},
   "outputs": [
    {
     "name": "stdout",
     "output_type": "stream",
     "text": [
      "Traceback (most recent call last):\n",
      "  File \"run_language_modeling.py\", line 29, in <module>\n",
      "    from transformers import (\n",
      "ImportError: cannot import name 'DataCollatorForLanguageModeling'\n",
      "CPU times: user 19.3 ms, sys: 16 ms, total: 35.3 ms\n",
      "Wall time: 1.47 s\n"
     ]
    }
   ],
   "source": [
    "%%time\n",
    "!{cmd}"
   ]
  },
  {
   "cell_type": "code",
   "execution_count": 33,
   "metadata": {},
   "outputs": [
    {
     "ename": "ImportError",
     "evalue": "cannot import name 'CONFIG_MAPPING' from 'transformers' (/Users/catherinewang/opt/anaconda3/envs/nlu/lib/python3.7/site-packages/transformers/__init__.py)",
     "output_type": "error",
     "traceback": [
      "\u001b[0;31m---------------------------------------------------------------------------\u001b[0m",
      "\u001b[0;31mImportError\u001b[0m                               Traceback (most recent call last)",
      "\u001b[0;32m<ipython-input-33-e86447ba7e4e>\u001b[0m in \u001b[0;36m<module>\u001b[0;34m\u001b[0m\n\u001b[0;32m----> 1\u001b[0;31m \u001b[0;32mfrom\u001b[0m \u001b[0mtransformers\u001b[0m \u001b[0;32mimport\u001b[0m \u001b[0mCONFIG_MAPPING\u001b[0m\u001b[0;34m\u001b[0m\u001b[0;34m\u001b[0m\u001b[0m\n\u001b[0m",
      "\u001b[0;31mImportError\u001b[0m: cannot import name 'CONFIG_MAPPING' from 'transformers' (/Users/catherinewang/opt/anaconda3/envs/nlu/lib/python3.7/site-packages/transformers/__init__.py)"
     ]
    }
   ],
   "source": [
    "from transformers import DataCollatorForLanguageModeling"
   ]
  },
  {
   "cell_type": "code",
   "execution_count": 18,
   "metadata": {},
   "outputs": [
    {
     "name": "stdout",
     "output_type": "stream",
     "text": [
      "Collecting git+https://github.com/huggingface/transformers\n",
      "  Cloning https://github.com/huggingface/transformers to /tmp/pip-req-build-m5mj5dxl\n",
      "  Running command git clone -q https://github.com/huggingface/transformers /tmp/pip-req-build-m5mj5dxl\n",
      "Requirement already satisfied (use --upgrade to upgrade): transformers==2.8.0 from git+https://github.com/huggingface/transformers in /data/anaconda/envs/py365/lib/python3.6/site-packages\n",
      "Requirement already satisfied: numpy in /data/anaconda/envs/py365/lib/python3.6/site-packages (from transformers==2.8.0) (1.18.2)\n",
      "Requirement already satisfied: tokenizers==0.7.0 in /data/anaconda/envs/py365/lib/python3.6/site-packages (from transformers==2.8.0) (0.7.0)\n",
      "Requirement already satisfied: filelock in /data/anaconda/envs/py365/lib/python3.6/site-packages (from transformers==2.8.0) (3.0.12)\n",
      "Requirement already satisfied: requests in /data/anaconda/envs/py365/lib/python3.6/site-packages (from transformers==2.8.0) (2.23.0)\n",
      "Requirement already satisfied: tqdm>=4.27 in /data/anaconda/envs/py365/lib/python3.6/site-packages (from transformers==2.8.0) (4.45.0)\n",
      "Requirement already satisfied: regex!=2019.12.17 in /data/anaconda/envs/py365/lib/python3.6/site-packages (from transformers==2.8.0) (2020.4.4)\n",
      "Requirement already satisfied: sentencepiece in /data/anaconda/envs/py365/lib/python3.6/site-packages (from transformers==2.8.0) (0.1.85)\n",
      "Requirement already satisfied: sacremoses in /data/anaconda/envs/py365/lib/python3.6/site-packages (from transformers==2.8.0) (0.0.38)\n",
      "Requirement already satisfied: dataclasses in /data/anaconda/envs/py365/lib/python3.6/site-packages (from transformers==2.8.0) (0.7)\n",
      "Requirement already satisfied: idna<3,>=2.5 in /data/anaconda/envs/py365/lib/python3.6/site-packages (from requests->transformers==2.8.0) (2.9)\n",
      "Requirement already satisfied: urllib3!=1.25.0,!=1.25.1,<1.26,>=1.21.1 in /data/anaconda/envs/py365/lib/python3.6/site-packages (from requests->transformers==2.8.0) (1.25.8)\n",
      "Requirement already satisfied: chardet<4,>=3.0.2 in /data/anaconda/envs/py365/lib/python3.6/site-packages (from requests->transformers==2.8.0) (3.0.4)\n",
      "Requirement already satisfied: certifi>=2017.4.17 in /data/anaconda/envs/py365/lib/python3.6/site-packages (from requests->transformers==2.8.0) (2020.4.5.1)\n",
      "Requirement already satisfied: six in /data/anaconda/envs/py365/lib/python3.6/site-packages (from sacremoses->transformers==2.8.0) (1.14.0)\n",
      "Requirement already satisfied: joblib in /data/anaconda/envs/py365/lib/python3.6/site-packages (from sacremoses->transformers==2.8.0) (0.14.1)\n",
      "Requirement already satisfied: click in /data/anaconda/envs/py365/lib/python3.6/site-packages (from sacremoses->transformers==2.8.0) (7.1.1)\n",
      "Building wheels for collected packages: transformers\n",
      "  Building wheel for transformers (setup.py) ... \u001b[?25ldone\n",
      "\u001b[?25h  Created wheel for transformers: filename=transformers-2.8.0-py3-none-any.whl size=595711 sha256=5ec09c83d03165b8dcd7c781574ede6730b272a82afa07576b83ba027e249301\n",
      "  Stored in directory: /tmp/pip-ephem-wheel-cache-f8g6jm2r/wheels/5a/0a/d0/eb8d0ea1d7d02156f8675d6e5dfa52c03601cbe377290db8dc\n",
      "Successfully built transformers\n"
     ]
    }
   ],
   "source": [
    "!pip install git+https://github.com/huggingface/transformers"
   ]
  },
  {
   "cell_type": "code",
   "execution_count": null,
   "metadata": {},
   "outputs": [],
   "source": []
  }
 ],
 "metadata": {
  "kernelspec": {
   "display_name": "Python 3",
   "language": "python",
   "name": "python3"
  },
  "language_info": {
   "codemirror_mode": {
    "name": "ipython",
    "version": 3
   },
   "file_extension": ".py",
   "mimetype": "text/x-python",
   "name": "python",
   "nbconvert_exporter": "python",
   "pygments_lexer": "ipython3",
   "version": "3.6.9"
  }
 },
 "nbformat": 4,
 "nbformat_minor": 4
}
