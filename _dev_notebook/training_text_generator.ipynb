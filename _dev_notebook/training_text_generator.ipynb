{
 "cells": [
  {
   "cell_type": "code",
   "execution_count": 2,
   "metadata": {},
   "outputs": [],
   "source": [
    "import numpy as np # linear algebra\n",
    "import pandas as pd # data processing, CSV file I/O (e.g. pd.read_csv)\n",
    "import glob\n",
    "import json\n",
    "from pprint import pprint\n",
    "from concurrent.futures import ProcessPoolExecutor\n",
    "from itertools import chain\n",
    "import nltk\n",
    "import re\n",
    "import os\n",
    "from pathlib import Path"
   ]
  },
  {
   "cell_type": "markdown",
   "metadata": {},
   "source": [
    "## 1. Set up file path and Read Files"
   ]
  },
  {
   "cell_type": "code",
   "execution_count": 3,
   "metadata": {},
   "outputs": [],
   "source": [
    "GLOBAL_PATH=\"../_data/CORD-19-research-challenge\""
   ]
  },
  {
   "cell_type": "code",
   "execution_count": 4,
   "metadata": {},
   "outputs": [],
   "source": [
    "cord_19_embeddings_df=pd.read_csv(GLOBAL_PATH+'/cord_19_embeddings_4_17/cord_19_embeddings_4_17.csv')"
   ]
  },
  {
   "cell_type": "code",
   "execution_count": 5,
   "metadata": {},
   "outputs": [
    {
     "data": {
      "text/html": [
       "<div>\n",
       "<style scoped>\n",
       "    .dataframe tbody tr th:only-of-type {\n",
       "        vertical-align: middle;\n",
       "    }\n",
       "\n",
       "    .dataframe tbody tr th {\n",
       "        vertical-align: top;\n",
       "    }\n",
       "\n",
       "    .dataframe thead th {\n",
       "        text-align: right;\n",
       "    }\n",
       "</style>\n",
       "<table border=\"1\" class=\"dataframe\">\n",
       "  <thead>\n",
       "    <tr style=\"text-align: right;\">\n",
       "      <th></th>\n",
       "      <th>xqhn0vbp</th>\n",
       "      <th>0.2771094739437103</th>\n",
       "      <th>-2.9749464988708496</th>\n",
       "      <th>1.10358726978302</th>\n",
       "      <th>9.312440872192383</th>\n",
       "      <th>1.3013277053833008</th>\n",
       "      <th>-4.281131267547607</th>\n",
       "      <th>-0.5318851470947266</th>\n",
       "      <th>-4.497644424438477</th>\n",
       "      <th>-0.6967141628265381</th>\n",
       "      <th>...</th>\n",
       "      <th>-0.31924888491630554</th>\n",
       "      <th>4.262275695800781</th>\n",
       "      <th>2.845273971557617</th>\n",
       "      <th>-1.656341552734375</th>\n",
       "      <th>-2.5844340324401855</th>\n",
       "      <th>-4.678825855255127</th>\n",
       "      <th>3.175534248352051</th>\n",
       "      <th>4.8904242515563965</th>\n",
       "      <th>-1.488284707069397</th>\n",
       "      <th>-1.3013025522232056</th>\n",
       "    </tr>\n",
       "  </thead>\n",
       "  <tbody>\n",
       "    <tr>\n",
       "      <th>0</th>\n",
       "      <td>gi6uaa83</td>\n",
       "      <td>-0.344760</td>\n",
       "      <td>-4.762074</td>\n",
       "      <td>3.647769</td>\n",
       "      <td>2.616938</td>\n",
       "      <td>3.856543</td>\n",
       "      <td>-0.460272</td>\n",
       "      <td>0.899565</td>\n",
       "      <td>2.284138</td>\n",
       "      <td>0.590927</td>\n",
       "      <td>...</td>\n",
       "      <td>-0.185362</td>\n",
       "      <td>0.603534</td>\n",
       "      <td>1.475987</td>\n",
       "      <td>1.804034</td>\n",
       "      <td>2.819780</td>\n",
       "      <td>-4.039684</td>\n",
       "      <td>-3.027682</td>\n",
       "      <td>0.997251</td>\n",
       "      <td>-0.661524</td>\n",
       "      <td>1.590745</td>\n",
       "    </tr>\n",
       "    <tr>\n",
       "      <th>1</th>\n",
       "      <td>le0ogx1s</td>\n",
       "      <td>-3.257521</td>\n",
       "      <td>-1.720686</td>\n",
       "      <td>1.438893</td>\n",
       "      <td>-1.614458</td>\n",
       "      <td>-3.205178</td>\n",
       "      <td>1.125262</td>\n",
       "      <td>-1.420612</td>\n",
       "      <td>-4.270585</td>\n",
       "      <td>-2.557855</td>\n",
       "      <td>...</td>\n",
       "      <td>-1.691883</td>\n",
       "      <td>0.594955</td>\n",
       "      <td>1.336509</td>\n",
       "      <td>0.036567</td>\n",
       "      <td>-2.065922</td>\n",
       "      <td>0.360089</td>\n",
       "      <td>0.832659</td>\n",
       "      <td>2.954574</td>\n",
       "      <td>-4.601091</td>\n",
       "      <td>-1.097578</td>\n",
       "    </tr>\n",
       "    <tr>\n",
       "      <th>2</th>\n",
       "      <td>fy4w7xz8</td>\n",
       "      <td>0.920366</td>\n",
       "      <td>-3.546179</td>\n",
       "      <td>-2.537739</td>\n",
       "      <td>6.372102</td>\n",
       "      <td>0.025263</td>\n",
       "      <td>-1.991629</td>\n",
       "      <td>-0.612892</td>\n",
       "      <td>0.983194</td>\n",
       "      <td>-2.316126</td>\n",
       "      <td>...</td>\n",
       "      <td>-0.412801</td>\n",
       "      <td>0.831824</td>\n",
       "      <td>2.101388</td>\n",
       "      <td>3.283052</td>\n",
       "      <td>-3.075248</td>\n",
       "      <td>-4.381618</td>\n",
       "      <td>1.925288</td>\n",
       "      <td>4.607265</td>\n",
       "      <td>-1.254582</td>\n",
       "      <td>-1.320425</td>\n",
       "    </tr>\n",
       "    <tr>\n",
       "      <th>3</th>\n",
       "      <td>0qaoam29</td>\n",
       "      <td>-1.145982</td>\n",
       "      <td>-5.231421</td>\n",
       "      <td>-1.958305</td>\n",
       "      <td>5.035599</td>\n",
       "      <td>-1.601498</td>\n",
       "      <td>-0.756577</td>\n",
       "      <td>1.757929</td>\n",
       "      <td>1.490937</td>\n",
       "      <td>0.192156</td>\n",
       "      <td>...</td>\n",
       "      <td>0.131644</td>\n",
       "      <td>3.836460</td>\n",
       "      <td>1.115987</td>\n",
       "      <td>1.524282</td>\n",
       "      <td>-2.017589</td>\n",
       "      <td>-5.102140</td>\n",
       "      <td>3.864315</td>\n",
       "      <td>1.679577</td>\n",
       "      <td>1.871223</td>\n",
       "      <td>-0.295825</td>\n",
       "    </tr>\n",
       "    <tr>\n",
       "      <th>4</th>\n",
       "      <td>qj4dh6rg</td>\n",
       "      <td>-1.728899</td>\n",
       "      <td>-5.419925</td>\n",
       "      <td>-0.482808</td>\n",
       "      <td>9.170734</td>\n",
       "      <td>-1.273682</td>\n",
       "      <td>-1.007223</td>\n",
       "      <td>1.836062</td>\n",
       "      <td>3.512957</td>\n",
       "      <td>1.623566</td>\n",
       "      <td>...</td>\n",
       "      <td>-0.164270</td>\n",
       "      <td>4.492704</td>\n",
       "      <td>1.499324</td>\n",
       "      <td>4.371634</td>\n",
       "      <td>-2.533002</td>\n",
       "      <td>-4.532452</td>\n",
       "      <td>2.206654</td>\n",
       "      <td>1.812408</td>\n",
       "      <td>0.771027</td>\n",
       "      <td>-1.834923</td>\n",
       "    </tr>\n",
       "  </tbody>\n",
       "</table>\n",
       "<p>5 rows × 769 columns</p>\n",
       "</div>"
      ],
      "text/plain": [
       "   xqhn0vbp  0.2771094739437103  -2.9749464988708496  1.10358726978302  \\\n",
       "0  gi6uaa83           -0.344760            -4.762074          3.647769   \n",
       "1  le0ogx1s           -3.257521            -1.720686          1.438893   \n",
       "2  fy4w7xz8            0.920366            -3.546179         -2.537739   \n",
       "3  0qaoam29           -1.145982            -5.231421         -1.958305   \n",
       "4  qj4dh6rg           -1.728899            -5.419925         -0.482808   \n",
       "\n",
       "   9.312440872192383  1.3013277053833008  -4.281131267547607  \\\n",
       "0           2.616938            3.856543           -0.460272   \n",
       "1          -1.614458           -3.205178            1.125262   \n",
       "2           6.372102            0.025263           -1.991629   \n",
       "3           5.035599           -1.601498           -0.756577   \n",
       "4           9.170734           -1.273682           -1.007223   \n",
       "\n",
       "   -0.5318851470947266  -4.497644424438477  -0.6967141628265381  ...  \\\n",
       "0             0.899565            2.284138             0.590927  ...   \n",
       "1            -1.420612           -4.270585            -2.557855  ...   \n",
       "2            -0.612892            0.983194            -2.316126  ...   \n",
       "3             1.757929            1.490937             0.192156  ...   \n",
       "4             1.836062            3.512957             1.623566  ...   \n",
       "\n",
       "   -0.31924888491630554  4.262275695800781  2.845273971557617  \\\n",
       "0             -0.185362           0.603534           1.475987   \n",
       "1             -1.691883           0.594955           1.336509   \n",
       "2             -0.412801           0.831824           2.101388   \n",
       "3              0.131644           3.836460           1.115987   \n",
       "4             -0.164270           4.492704           1.499324   \n",
       "\n",
       "   -1.656341552734375  -2.5844340324401855  -4.678825855255127  \\\n",
       "0            1.804034             2.819780           -4.039684   \n",
       "1            0.036567            -2.065922            0.360089   \n",
       "2            3.283052            -3.075248           -4.381618   \n",
       "3            1.524282            -2.017589           -5.102140   \n",
       "4            4.371634            -2.533002           -4.532452   \n",
       "\n",
       "   3.175534248352051  4.8904242515563965  -1.488284707069397  \\\n",
       "0          -3.027682            0.997251           -0.661524   \n",
       "1           0.832659            2.954574           -4.601091   \n",
       "2           1.925288            4.607265           -1.254582   \n",
       "3           3.864315            1.679577            1.871223   \n",
       "4           2.206654            1.812408            0.771027   \n",
       "\n",
       "   -1.3013025522232056  \n",
       "0             1.590745  \n",
       "1            -1.097578  \n",
       "2            -1.320425  \n",
       "3            -0.295825  \n",
       "4            -1.834923  \n",
       "\n",
       "[5 rows x 769 columns]"
      ]
     },
     "execution_count": 5,
     "metadata": {},
     "output_type": "execute_result"
    }
   ],
   "source": [
    "cord_19_embeddings_df.head()"
   ]
  },
  {
   "cell_type": "code",
   "execution_count": 4,
   "metadata": {},
   "outputs": [],
   "source": [
    "metadata_path = f'{GLOBAL_PATH}/metadata.csv'\n",
    "meta_df = pd.read_csv(metadata_path, dtype={\n",
    "    'pubmed_id': str,\n",
    "    'Microsoft Academic Paper ID': str, \n",
    "    'doi': str\n",
    "})"
   ]
  },
  {
   "cell_type": "code",
   "execution_count": 1,
   "metadata": {},
   "outputs": [
    {
     "ename": "NameError",
     "evalue": "name 'meta_df' is not defined",
     "output_type": "error",
     "traceback": [
      "\u001b[0;31m---------------------------------------------------------------------------\u001b[0m",
      "\u001b[0;31mNameError\u001b[0m                                 Traceback (most recent call last)",
      "\u001b[0;32m<ipython-input-1-4d868377cb09>\u001b[0m in \u001b[0;36m<module>\u001b[0;34m\u001b[0m\n\u001b[0;32m----> 1\u001b[0;31m \u001b[0mmeta_df\u001b[0m\u001b[0;34m.\u001b[0m\u001b[0mshape\u001b[0m\u001b[0;34m\u001b[0m\u001b[0;34m\u001b[0m\u001b[0m\n\u001b[0m",
      "\u001b[0;31mNameError\u001b[0m: name 'meta_df' is not defined"
     ]
    }
   ],
   "source": [
    "meta_df.shape"
   ]
  },
  {
   "cell_type": "markdown",
   "metadata": {},
   "source": [
    "## 2. Read BioXiv paper for testing training generator functions "
   ]
  },
  {
   "cell_type": "code",
   "execution_count": 42,
   "metadata": {},
   "outputs": [],
   "source": [
    "#biorxiv = '/biorxiv_medrxiv' #2278 in bioxiv\n",
    "comm_used = '/comm_use_subset/comm_use_subset'\n",
    "load_json = glob.glob(f'{GLOBAL_PATH}/**/*.json', recursive=True)\n"
   ]
  },
  {
   "cell_type": "code",
   "execution_count": 43,
   "metadata": {},
   "outputs": [
    {
     "data": {
      "text/plain": [
       "68204"
      ]
     },
     "execution_count": 43,
     "metadata": {},
     "output_type": "execute_result"
    }
   ],
   "source": [
    "len(load_json)"
   ]
  },
  {
   "cell_type": "code",
   "execution_count": 8,
   "metadata": {},
   "outputs": [
    {
     "name": "stdout",
     "output_type": "stream",
     "text": [
      "There are:  2278  pdf Json in BioXiv\n",
      "===================================================\n",
      "Dictionary keys: dict_keys(['paper_id', 'metadata', 'abstract', 'body_text', 'bib_entries', 'ref_entries', 'back_matter'])\n"
     ]
    }
   ],
   "source": [
    "print(\"There are: \",len(load_json),\" pdf Json in Path\")\n",
    "print(\"===================================================\")\n",
    "all_files = []\n",
    "for filename in load_json:\n",
    "    #filename = biorxiv_dir + filename\n",
    "    file = json.load(open(filename, 'rb'))\n",
    "    all_files.append(file)\n",
    "\n",
    "file = all_files[0]\n",
    "print(\"Dictionary keys:\", file.keys())"
   ]
  },
  {
   "cell_type": "code",
   "execution_count": 35,
   "metadata": {},
   "outputs": [
    {
     "name": "stdout",
     "output_type": "stream",
     "text": [
      "[{'cite_spans': [],\n",
      "  'ref_spans': [],\n",
      "  'section': 'Abstract',\n",
      "  'text': 'Aims: To determine analytical capabilities of a commonly used '\n",
      "          'faecal immunochemical test (FIT) to detect haemoglobin (Hb) in the '\n",
      "          'context of NICE guidance DG30, and the likely use of FIT to '\n",
      "          'reprioritise patients delayed by the COVID-19 pandemic.'},\n",
      " {'cite_spans': [],\n",
      "  'ref_spans': [],\n",
      "  'section': 'Abstract',\n",
      "  'text': 'Methods: Data obtained from independent verification studies and '\n",
      "          'clinical testing of the HM-JACKarc FIT method in routine primary '\n",
      "          'care practice were analysed to derive analytical performance '\n",
      "          'characteristics.'},\n",
      " {'cite_spans': [],\n",
      "  'ref_spans': [],\n",
      "  'section': 'Abstract',\n",
      "  'text': 'Results: Detection capabilities for the FIT method were 0.5 µg/g '\n",
      "          '(limit of blank), 1.1 (limit of detection) and 15.0 µg/g (limit of '\n",
      "          'quantification). 31 of 33 (94%) non-homogenised specimens analysed '\n",
      "          'in triplicate were consistently categorised relative to 10 µg/g '\n",
      "          'compared to all 33 (100%) homogenised specimens. Imprecision in '\n",
      "          'non-homogenised specimens was higher (median 27.8%, (range 20.5% '\n",
      "          '-48.6%)) than in homogenised specimens (10.'}]\n"
     ]
    }
   ],
   "source": [
    "pprint(file['abstract'])"
   ]
  },
  {
   "cell_type": "code",
   "execution_count": 34,
   "metadata": {},
   "outputs": [
    {
     "name": "stdout",
     "output_type": "stream",
     "text": [
      "body_text content:\n",
      "[{'cite_spans': [{...}, {...}, {...}],\n",
      "  'ref_spans': [],\n",
      "  'section': 'Introduction',\n",
      "  'text': 'Colorectal cancer is globally the third most incident malignancy '\n",
      "          '(1) . It is surgically treatable with improved long-term outcomes '\n",
      "          'if diagnosis is at an early stage (2) . Most developed countries, '\n",
      "          'including the UK, operate colorectal screening programmes using '\n",
      "          'faecal occult blood testing. Screen detected cancers benefit from '\n",
      "          'early diagnosis and treatment, with associated improved survival '\n",
      "          '(2) . Faecal immunochemical tests (FIT) have largely replaced the '\n",
      "          'traditional guaiac based faecal occult blood tests due to the '\n",
      "          'increased specificity of FIT.'},\n",
      " {'cite_spans': [{...}, {...}],\n",
      "  'ref_spans': [],\n",
      "  'section': 'Introduction',\n",
      "  'text': 'To complement the UK Bowel Cancer Screening Programme (UKBCSP), the '\n",
      "          '2017 DG30 NICE guidance (3) recommended the use of FIT for faecal '\n",
      "          'haemoglobin (Hb) detection in patients presenting to primary care '\n",
      "          'with low risk abdominal symptoms. The adoption of FIT in primary '\n",
      "          'care has been slow, with notable variation in uptake and '\n",
      "          'implementation across the UK (4). The Oxford University Hospitals '\n",
      "          'Trust (OUH) adopted FIT prior to the DG30 guidance to comply with '\n",
      "          'the 2015 NG12 NICE guidance for suspected cancer (6) , which '\n",
      "          'recommended the use of faecal occult blood testing in symptomatic '\n",
      "          'patients. This coincided with a desire from the clinical laboratory '\n",
      "          'to move away from the comparatively inaccurate guaiac based method. '\n",
      "          'FIT was commissioned by Oxfordshire Clinical Commissioning Group '\n",
      "          '(OCCG) as a direct access test for General Practitioners in 2016 '\n",
      "          'following a study by this group comparing the accuracy of the '\n",
      "          'guaiac and FIT methods in symptomatic primary care patients meeting '\n",
      "          'NG12 criteria (5) .'}]\n"
     ]
    }
   ],
   "source": [
    "print(\"body_text content:\")\n",
    "pprint(file['body_text'][:2], depth=3)"
   ]
  },
  {
   "cell_type": "code",
   "execution_count": 40,
   "metadata": {},
   "outputs": [
    {
     "name": "stdout",
     "output_type": "stream",
     "text": [
      "['Introduction',\n",
      " 'Setting and analytical method',\n",
      " 'Method detection capability estimates and immunoassay reproducibility',\n",
      " 'Effects of sample homogenisation',\n",
      " 'Stability of specimens within the collection device',\n",
      " 'Within patient serial sampling',\n",
      " 'Statistical analysis',\n",
      " 'Detection capabilities and immunoassay reproducibility',\n",
      " 'Discussion',\n",
      " 'Implications for research and practice.',\n",
      " 'Concluding remarks.']\n"
     ]
    }
   ],
   "source": [
    "texts = [(di['section'], di['text']) for di in file['body_text']]\n",
    "texts_di = {di['section']: \"\" for di in file['body_text']}\n",
    "for section, text in texts:\n",
    "    texts_di[section] += text\n",
    "\n",
    "pprint(list(texts_di.keys()))"
   ]
  },
  {
   "cell_type": "code",
   "execution_count": 43,
   "metadata": {},
   "outputs": [
    {
     "name": "stdout",
     "output_type": "stream",
     "text": [
      "Introduction\n",
      "\n",
      "Colorectal cancer is globally the third most incident malignancy (1) . It is surgically treatable with improved long-term outcomes if diagnosis is at an early stage (2) . Most developed countries, including the UK, operate colorectal screening programmes using faecal occult blood testing. Screen detected cancers benefit from early diagnosis and treatment, with associated improved survival (2) . Faecal immunochemical tests (FIT) have largely replaced the traditional guaiac based faecal occult blood tests due to the increased specificity of FIT.To complement the UK Bowel Cancer Screening Programme (UKBCSP), the 2017 DG30 NICE guidance (3) recommended the use of FIT for faecal haemoglobin (Hb) detection in patients presenting to primary care with low risk abdominal symptoms. The adoption of FIT in primary care has been slow, with notable variation in uptake and implementation across the UK (4). The Oxford University Hospitals Trust (OUH) adopted FIT prior to the DG30 guidance to comply with the 2015 NG12 NICE guidance for suspected cancer (6) , which recommended the use of faecal occult blood testing in symptomatic patients. This coincided with a desire from the clinical laboratory to move away from the comparatively inaccurate guaiac based method. FIT was commissioned by Oxfordshire Clinical Commissioning Group (OCCG) as a direct access test for General Practitioners in 2016 following a study by this group comparing the accuracy of the guaiac and FIT methods in symptomatic primary care patients meeting NG12 criteria (5) .Despite gradual uptake of FIT, there remains a clear need to understand FIT method characteristics (7) . FIT testing, whether undertaken within a screening programme or applied to a symptomatic population, is dependent on the analytical performance of the laboratory procedures used. These analytical characteristics, most crucially sampling, impact on the way the results are most accurately reported (8) . Whilst there has been significant work undertaken in the context of screening (9) there is less data available in the symptomatic population. This is important to explore as the characteristics of the population for a screening programme, and the associated specimens, may differ from patients presenting with symptoms. For example, the age-range of the symptomatic population is broader and specimen characteristics, including faecal consistency, will likely differ in patients with changes in bowel habit, and the information and support for taking a sample is less. This may affect sample, and sampling integrity.The FIT methods used to process samples from symptomatic patients are those developed for measuring faecal Hb at higher concentrations in screening. At present, the cut-off used by the UKBCSP is >120 µg/g, with future plans to reduce this to approximately 50 µg/g to improve sensitivity. The threshold recommended for use with symptomatic patients in DG30 is 10 µg/g. FIT methods may not be optimised, or fully charac\n"
     ]
    }
   ],
   "source": [
    "body = \"\"\n",
    "\n",
    "for section, text in texts_di.items():\n",
    "    body += section\n",
    "    body += \"\\n\\n\"\n",
    "    body += text\n",
    "    body += \"\\n\\n\"\n",
    "\n",
    "print(body[:3000])"
   ]
  },
  {
   "cell_type": "markdown",
   "metadata": {},
   "source": [
    "## 3. Flatten the Json file to create the training set "
   ]
  },
  {
   "cell_type": "code",
   "execution_count": 9,
   "metadata": {},
   "outputs": [
    {
     "name": "stdout",
     "output_type": "stream",
     "text": [
      "f6b29be971089bfe0916c64ab9fbddcec38a7436: Aims: To determine analytical capabilities of a commonly used faecal immunochemical test (FIT) to detect haemoglobin (Hb) in the context of NICE guidance DG30, and the likely use of FIT to reprioritis... Colorectal cancer is globally the third most incident malignancy (1) . It is surgically treatable with improved long-term outcomes if diagnosis is at an early stage (2) . Most developed countries, inc...\n"
     ]
    }
   ],
   "source": [
    "class FileReader:\n",
    "    def __init__(self, file_path):\n",
    "        with open(file_path) as file:\n",
    "            content = json.load(file)\n",
    "            self.paper_id = content['paper_id']\n",
    "            self.abstract = []\n",
    "            self.body_text = []\n",
    "            # Abstract\n",
    "            for entry in content['abstract']:\n",
    "                self.abstract.append(entry['text'])\n",
    "            # Body text\n",
    "            for entry in content['body_text']:\n",
    "                self.body_text.append(entry['text'])\n",
    "            self.abstract = '\\n'.join(self.abstract)\n",
    "            self.body_text = '\\n'.join(self.body_text)\n",
    "    def __repr__(self):\n",
    "        return f'{self.paper_id}: {self.abstract[:200]}... {self.body_text[:200]}...'\n",
    "\n",
    "first_row = FileReader(load_json[0])\n",
    "print(first_row)"
   ]
  },
  {
   "cell_type": "code",
   "execution_count": 10,
   "metadata": {},
   "outputs": [
    {
     "name": "stdout",
     "output_type": "stream",
     "text": [
      "Processing index: 0 of 2278\n",
      "Processing index: 227 of 2278\n",
      "Processing index: 454 of 2278\n",
      "Processing index: 681 of 2278\n",
      "Processing index: 908 of 2278\n",
      "Processing index: 1135 of 2278\n",
      "Processing index: 1362 of 2278\n",
      "Processing index: 1589 of 2278\n",
      "Processing index: 1816 of 2278\n",
      "Processing index: 2043 of 2278\n",
      "Processing index: 2270 of 2278\n"
     ]
    },
    {
     "data": {
      "text/html": [
       "<div>\n",
       "<style scoped>\n",
       "    .dataframe tbody tr th:only-of-type {\n",
       "        vertical-align: middle;\n",
       "    }\n",
       "\n",
       "    .dataframe tbody tr th {\n",
       "        vertical-align: top;\n",
       "    }\n",
       "\n",
       "    .dataframe thead th {\n",
       "        text-align: right;\n",
       "    }\n",
       "</style>\n",
       "<table border=\"1\" class=\"dataframe\">\n",
       "  <thead>\n",
       "    <tr style=\"text-align: right;\">\n",
       "      <th></th>\n",
       "      <th>paper_id</th>\n",
       "      <th>abstract</th>\n",
       "      <th>body_text</th>\n",
       "      <th>title</th>\n",
       "    </tr>\n",
       "  </thead>\n",
       "  <tbody>\n",
       "    <tr>\n",
       "      <th>0</th>\n",
       "      <td>f6b29be971089bfe0916c64ab9fbddcec38a7436</td>\n",
       "      <td>Aims: To determine analytical capabilities of ...</td>\n",
       "      <td>Colorectal cancer is globally the third most i...</td>\n",
       "      <td>37232    Faecal immunochemical testing (FIT): ...</td>\n",
       "    </tr>\n",
       "    <tr>\n",
       "      <th>1</th>\n",
       "      <td>005d189d5bd7ac01aee65e934fd3d5186a3f7b27</td>\n",
       "      <td>The rapid outbreak of the new Coronavirus pand...</td>\n",
       "      <td>The outbreak of infectious diseases has always...</td>\n",
       "      <td>36952    Relationship between Average Daily Te...</td>\n",
       "    </tr>\n",
       "    <tr>\n",
       "      <th>2</th>\n",
       "      <td>f905f78b32f63c6d14a79984dfb33f1b358b8ab4</td>\n",
       "      <td>New anti-AIDS treatments must be continually d...</td>\n",
       "      <td>In the absence of a curative treatment, the hi...</td>\n",
       "      <td>37478    Multimerization of HIV-1 integrase hi...</td>\n",
       "    </tr>\n",
       "    <tr>\n",
       "      <th>3</th>\n",
       "      <td>607e0074d8ff40c272b958c2fe48793fedfc785e</td>\n",
       "      <td></td>\n",
       "      <td>the author/funder, who has granted medRxiv a l...</td>\n",
       "      <td>36290    Virus shedding patterns in nasopharyn...</td>\n",
       "    </tr>\n",
       "    <tr>\n",
       "      <th>4</th>\n",
       "      <td>72e25b728c6c62fb3a4e2c59c8ee48de4b5ee452</td>\n",
       "      <td>Recently classified as a pandemic by WHO, nove...</td>\n",
       "      <td>The pandemic of COVID-19 is taking a troll in ...</td>\n",
       "      <td>37135    Phylogenetic Analysis of the Novel Co...</td>\n",
       "    </tr>\n",
       "  </tbody>\n",
       "</table>\n",
       "</div>"
      ],
      "text/plain": [
       "                                   paper_id  \\\n",
       "0  f6b29be971089bfe0916c64ab9fbddcec38a7436   \n",
       "1  005d189d5bd7ac01aee65e934fd3d5186a3f7b27   \n",
       "2  f905f78b32f63c6d14a79984dfb33f1b358b8ab4   \n",
       "3  607e0074d8ff40c272b958c2fe48793fedfc785e   \n",
       "4  72e25b728c6c62fb3a4e2c59c8ee48de4b5ee452   \n",
       "\n",
       "                                            abstract  \\\n",
       "0  Aims: To determine analytical capabilities of ...   \n",
       "1  The rapid outbreak of the new Coronavirus pand...   \n",
       "2  New anti-AIDS treatments must be continually d...   \n",
       "3                                                      \n",
       "4  Recently classified as a pandemic by WHO, nove...   \n",
       "\n",
       "                                           body_text  \\\n",
       "0  Colorectal cancer is globally the third most i...   \n",
       "1  The outbreak of infectious diseases has always...   \n",
       "2  In the absence of a curative treatment, the hi...   \n",
       "3  the author/funder, who has granted medRxiv a l...   \n",
       "4  The pandemic of COVID-19 is taking a troll in ...   \n",
       "\n",
       "                                               title  \n",
       "0  37232    Faecal immunochemical testing (FIT): ...  \n",
       "1  36952    Relationship between Average Daily Te...  \n",
       "2  37478    Multimerization of HIV-1 integrase hi...  \n",
       "3  36290    Virus shedding patterns in nasopharyn...  \n",
       "4  37135    Phylogenetic Analysis of the Novel Co...  "
      ]
     },
     "execution_count": 10,
     "metadata": {},
     "output_type": "execute_result"
    }
   ],
   "source": [
    "dict_ = {'paper_id': [], 'abstract': [], 'body_text': [], 'title': []}\n",
    "for idx, entry in enumerate(load_json):\n",
    "    if idx % (len(load_json) // 10) == 0:\n",
    "        print(f'Processing index: {idx} of {len(load_json)}')\n",
    "    \n",
    "    try:\n",
    "        content = FileReader(entry)\n",
    "    except Exception as e:\n",
    "        continue  # invalid paper format, skip\n",
    "    \n",
    "    # get metadata information\n",
    "    meta_data = meta_df.loc[meta_df['sha'] == content.paper_id]\n",
    "    # no metadata, skip this paper\n",
    "    if len(meta_data) == 0:\n",
    "        continue\n",
    "    \n",
    "    dict_['abstract'].append(content.abstract)\n",
    "    dict_['paper_id'].append(content.paper_id)\n",
    "    dict_['body_text'].append(content.body_text)\n",
    "    \n",
    "    # get metadata information\n",
    "    meta_data = meta_df.loc[meta_df['sha'] == content.paper_id]\n",
    "    \n",
    "    \n",
    "    # add the title information, add breaks when needed\n",
    "    dict_['title'].append(meta_data['title'])\n",
    "\n",
    "    \n",
    "    \n",
    "df_covid = pd.DataFrame(dict_, columns=['paper_id', 'abstract', 'body_text', 'title'])\n",
    "df_covid.head()"
   ]
  },
  {
   "cell_type": "code",
   "execution_count": 11,
   "metadata": {},
   "outputs": [
    {
     "data": {
      "text/plain": [
       "2278"
      ]
     },
     "execution_count": 11,
     "metadata": {},
     "output_type": "execute_result"
    }
   ],
   "source": [
    "len(df_covid[\"body_text\"])"
   ]
  },
  {
   "cell_type": "code",
   "execution_count": 14,
   "metadata": {},
   "outputs": [],
   "source": [
    "#df_covid[\"body_text\"][0]"
   ]
  },
  {
   "cell_type": "markdown",
   "metadata": {},
   "source": [
    "## 4. Cleaning the Text "
   ]
  },
  {
   "cell_type": "code",
   "execution_count": 55,
   "metadata": {},
   "outputs": [],
   "source": [
    "import nltk\n",
    "from nltk.tokenize import sent_tokenize\n",
    "import sentencepiece as spm"
   ]
  },
  {
   "cell_type": "code",
   "execution_count": 52,
   "metadata": {},
   "outputs": [],
   "source": [
    "regex_tokenizer = nltk.RegexpTokenizer(\"\\w+\")"
   ]
  },
  {
   "cell_type": "code",
   "execution_count": 15,
   "metadata": {},
   "outputs": [],
   "source": [
    "def normalize_text(text):\n",
    "    # lowercase text\n",
    "    text = str(text).lower()\n",
    "    # remove non-UTF\n",
    "    text = text.encode(\"utf-8\", \"ignore\").decode()\n",
    "    # remove punktuation symbols\n",
    "    #text = \" \".join(regex_tokenizer.tokenize(text))\n",
    "    return text\n",
    "\n",
    "def sentencise_text(text):\n",
    "    text = sent_tokenize(text)\n",
    "    return text \n",
    "\n",
    "def count_lines(filename):\n",
    "    count = 0\n",
    "    with open(filename) as fi:\n",
    "        for line in fi:\n",
    "            count += 1\n",
    "    return count"
   ]
  },
  {
   "cell_type": "code",
   "execution_count": 16,
   "metadata": {},
   "outputs": [
    {
     "data": {
      "text/plain": [
       "'colorectal cancer is globally the third most incident malignancy (1) . it is surgically treatable with improved long-term outcomes if diagnosis is at an early stage (2) . most developed countries, including the uk, operate colorectal screening programmes using faecal occult blood testing. screen detected cancers benefit from early diagnosis and treatment, with associated improved survival (2) . faecal immunochemical tests (fit) have largely replaced the traditional guaiac based faecal occult blood tests due to the increased specificity of fit.\\nto complement the uk bowel cancer screening programme (ukbcsp), the 2017 dg30 nice guidance (3) recommended the use of fit for faecal haemoglobin (hb) detection in patients presenting to primary care with low risk abdominal symptoms. the adoption of fit in primary care has been slow, with notable variation in uptake and implementation across the uk (4). the oxford university hospitals trust (ouh) adopted fit prior to the dg30 guidance to comply with the 2015 ng12 nice guidance for suspected cancer (6) , which recommended the use of faecal occult blood testing in symptomatic patients. this coincided with a desire from the clinical laboratory to move away from the comparatively inaccurate guaiac based method. fit was commissioned by oxfordshire clinical commissioning group (occg) as a direct access test for general practitioners in 2016 following a study by this group comparing the accuracy of the guaiac and fit methods in symptomatic primary care patients meeting ng12 criteria (5) .\\ndespite gradual uptake of fit, there remains a clear need to understand fit method characteristics (7) . fit testing, whether undertaken within a screening programme or applied to a symptomatic population, is dependent on the analytical performance of the laboratory procedures used. these analytical characteristics, most crucially sampling, impact on the way the results are most accurately reported (8) . whilst there has been significant work undertaken in the context of screening (9) there is less data available in the symptomatic population. this is important to explore as the characteristics of the population for a screening programme, and the associated specimens, may differ from patients presenting with symptoms. for example, the age-range of the symptomatic population is broader and specimen characteristics, including faecal consistency, will likely differ in patients with changes in bowel habit, and the information and support for taking a sample is less. this may affect sample, and sampling integrity.\\nthe fit methods used to process samples from symptomatic patients are those developed for measuring faecal hb at higher concentrations in screening. at present, the cut-off used by the ukbcsp is >120 µg/g, with future plans to reduce this to approximately 50 µg/g to improve sensitivity. the threshold recommended for use with symptomatic patients in dg30 is 10 µg/g. fit methods may not be optimised, or fully characterised, for detection at the lower concentrations now being considered important for application in dg30 (7) .\\nwhile introduction of fit into primary care cancer pathways is limited at present, given the large backlog of endoscopy created by the covid-19 pandemic it is almost certain the widespread use of low cut off fit testing will be introduced immediately the pandemic has passed to risk stratify all patient referred with possible cancer symptoms into groups for urgent and less urgent endoscopy. understanding low cut off fit test performance in the context of symptomatic patients is therefore a priority.\\nin the present study we present our observations and assessment of fit method performance since introduction of the test into routine clinical practice for a symptomatic primary care population over a three year period. we include estimates of analytical performance, observations on longer term method performance, sampling reproducibility in homogenised compared to non-homogenised material, and consistency is sequential specimens from the same patients.\\na single laboratory undertaking centralised analysis of fit requests, mainly from primary care, for the 680,000 population of oxfordshire.\\nfit analysis was undertaken using the hm-jackarc analyser (kyowa medex co., ltd., tokyo, japan) (ref guildford report) which has a calibration range of 7 to 450 µg hb/g faeces. this method was introduced into service prior to nice guidance defining 10 µg/g as the threshold defined for detection and we used 7 µg/g, the lowest calibrator value as the threshold for a positive result all specimens were requested by nhs primary care clinicians and collected into standard stool pots by patients, a sampling approach taken due to concerns about sampling capability when undertaken by (often elderly) patients (5) . clinician advice from ouh and occg included guidance on delivering the sample to the laboratory on the same day as collection as hb can degrade on storage (10) . on arrival in the laboratory the stool specimens were sampled using the extel hemo-auto mc designed for application with the hm-jackarc by laboratory staff competency assessed in this technique. the whole sampling procedure was undertaken in a fume cupboard by staff with standard laboratory protective equipment and involved a 30 second vortex mix which for most specimens was adequate for release of the faecal pellet collected into the dimples/grooves of the picker. all specimens were visually inspected to ensure complete suspension of specimen and if it was noted any residual specimen adherence mixing continued until all material was removed.\\nthe fit method limit of blank (lob), limit of detection (lod) and limit of quantification (loq) were estimated as recently recommended (7). as it was not possible to obtain a genuine faecal sample, assured as having no hb analyte present, sample blank readings were utilised to estimate lob. lod was calculated using the lob + 1.645 (sd) of samples with \"very low concentrations\", considered to be those giving fit results those between 0.5µg/g an 1.0 µg/g. loq was estimated from an imprecision profile constructed from faecal samples analysed in duplicate across a wide fit concentration range of naturally hb positive material and was taken as the concentration at which the percent coefficient of variation (%cv) was 10%. a 10%cv was selected as this has been recommended as an appropriate imprecision threshold for fit method loq evaluation (7) . an additional within batch imprecision estimate was made using a dilution of the supplier\\'s internal quality control (iqc) material. this was prepared to give a concentration near to the anticipated lod to assess whether the behaviour of iqc material in the assay system with respect to imprecision was similar to true samples.\\nthe on-instrument intermediate imprecision (not including sampling into the collection device) was estimated from two level iqc materials provided by the manufacturer over several months to include the effects of different analysts, reagent lot numbers and calibration material lot numbers.\\nit is unclear whether hb is evenly distributed in faeces therefore we investigated the hb concentration before and after sample homogenization. randomly selected faecal specimens arriving in standard stool containers were sampled in triplicate, homogenized and then resampled a further three times. this resulted in six estimates of the result (3 nonhomogenised replicates and 3 homogenised replicates) with the imprecision presented as the %cv of each set of three replicates. individual stool specimen replicates were sampled by the same member of staff but overall three different members of laboratory staff were involved in this part of the study.\\nfit analysis was undertaken as a batch once or twice per week. to verify the stability of hb in the buffered collection device a selection of specimens were analysed at three time points (at time zero, at 6 days and at 21 days).\\nprior to january 2016 the standard practice with the guaiac method was to collect serial samples. despite revised guidance, recommending only a single specimen was required for fit, many primary care clinicians continued to request more than one. this may have been due to clinicians being unaware of revised guidance or because there remained doubt about test credibility and the additional reassurance multiple specimens might provide (11, 12) . sequential samples were delivered to the lab on the same day allowing assessment of delayed analysis on fit concentration. these sequential specimens represented maximum within patient error as hb concentrations reflected total variability (between day biological variation, analyte instability, sampling error and immunoassay method imprecision).\\ndifferences between the imprecision of sampling between non-homogenised and homogenised sampling were assessed using a wilcoxon rank test with continuity correction, the null hypothesis being that the distribution of x -y (%cv in homogenised group -%cv in non-homogenised group) is symmetric about 0.\\nfor patients with multiple specimens and discordant results (that is, at least one result greater than, and at least one result less than 10 ug/g), we examined whether there was an association between the likelihood of a positive result and delay in processing the specimen in the laboratory of 48 or 72 hours. in this group, we also examined whether there was an association between a positive result and the sequence number of the specimen. both were assessed using the chi-squared test.\\nlimit of the blank (lob) -the mean fit result of the sample blank run as part of the method iqc over 100 consecutive batches over 11 months and three different reagent batches was 0.20 µg/g, sd 0.16 µg/g, from which a derived lob was 0.47 µg/g.\\nlimit of detection (lod) -as the method only reports to one decimal place we considered this to be 0.5 µg/g for practical purposes. 51 samples with apparent concentrations between 0.5 and 1.0 µg/g measured in duplicate were considered \"very low concentrations\" and suitable for calculation of an sd for the lod calculation. the derived sd was 0.35 µg/g from which an lod of 1.1 µg/g was derived (from lob + 1.645sd).\\nlimit of quantification (loq) -loq was calculated from a precision profile ( figure 1 ) constructed using data from 132 paired, within-batch replicates, analysed in seven different batches over a one week period. three samples with concentrations above the highest calibrant concentration, 450 µg/g, were excluded from the analysis. the imprecision was 13% at approximately 7 µg/g (the lowest calibrator value), 11.5% at 10 µg/g (the nice threshold for detection) and 10% at 15 µg/g. the 10% imprecision threshold has been recommended as the loq for fit (7) and therefore 15 µg/g was considered to be this assay characteristic.\\nmethod precision and reproducibility -the within-batch imprecision characteristics of a highly diluted iqc material were mean 1.5 µg/g, sd 0.5 µg/g, %cv 33.9 %. estimation of on-instrument method precision utilised quality control data collected over 12 months during which time four different lot numbers were used (table 1) .\\nmethod reproducibility, expressed as %cv, for the low iqc material with a concentration of around 26 µg/g ranged from 6.6% to 8.7% and for the high iqc material, concentration around 90 µg/g ranged from 4.5% to 6.8%.\\neffects of sample homogenisation 31 (94%) of 33 non-homogenised samples were consistent with respect to their categorisation as above or below the 10 µg/g ( figure 2 ). 27 had a mean result below 10 µg/g (negative) and 6 had mean results above (positive). four had all three replicates above the loq and imprecision estimates were calculated: median %cv of 27.8%, range 20.5% to 48.6%.\\ntwo further samples had two replicates below the loq which prevented accurate calculation of imprecision but had discrepant result relative to the 10 µg/g nice threshold. one specimen had replicates of <1.1, <1.1, 34.5 µg/g (two below the lod and one above the loq). clinical details of this patient were pr bleeding and endoscopy showed an 8mm polyp in the sigmoid. histology revealed the polyp to be non-dysplastic and hyper-plastic and this patient was discharged. the second of these discrepant results had replicates <1.1, <1.1, 14.7 µg/g (two below the lod and one between the lod and loq and positive relative to the nice threshold of 10 µg/g). this patient was being followed up by an established vague symptoms pathway (13) and whilst nothing abnormal was detected after 9 months of followup, at the time of patient assessment they were noted to be taking nsaid.\\nin the homogenised specimen group, all 33 (100%) specimens were consistent with respect to their categorisation as above or below the 10 µg/g ( figure 2 ). 28 had a mean result below 10 µg/g (negative) and 5 had mean results above (positive). categorisation as positive or negative results was consistent in all replicates relative to a threshold of 10 µg/g. four of the specimens in the homogenised set had all three replicates above the loq and imprecision estimates were calculated: median %cv of 10.2%, range 7.0 to 13.5%. this was lower but not statistically significant (p = 0.10) than the imprecision observed in the non-homogenised samples.\\n15 specimens selected as their initial result was above the lod, (8 below the loq and 7 above) were repeat tested. all 15 specimens had consistent categorisation when repeat tested at 6 days compared to the initial result (positive or negative relative to the 10 µg/g threshold).\\nat 21 days all but one specimen were consistently categorised however, however one had fallen from 25 to 6 µg/g. for the 7 specimens above the loq there was no statistical difference at 6 (p=0.95) or 21 days (p=0.93).\\nwithin patient serial sampling -524 patients sent more than one sample within a 3 month period: 302 returned 2 specimens; 222 returned 3; 2 returned 4; and 1 returned 5. of the 225 patients with 3 or more specimens, 197 (87.6%) had concordant results for all specimens (188 negative, 9 positive). 28 (12.4%) had discordant results, that is, at least one value more, and at least one value less, than 10 µg/g.\\nthere was no obvious trend on visual review of plots of individual patient\\'s fit values over time (figure 3), and no association between the likelihood of a positive result based on either a delay of more than 2 days in the specimen reaching the laboratory (p = 0.84, chi-squared test). there was no association between the likelihood of a positive results and the number in the sequence of a particular patient\\'s specimens (p = 0.21, chi-squared test), all rights reserved. no reuse allowed without permission. the author/funder, who has granted medrxiv a license to display the preprint in perpetuity.\\nthe copyright holder for this preprint (which was not peer-reviewed) is . https://doi.org/10.1101/2020.04.15.20066191 doi: medrxiv preprint\\ncurrent proposals for fit testing at low concentrations are dependent on accurate lod and loq estimates (7) . in this evaluation we have derived these detection characteristics for a commonly used fit method. the lob (0.5 µg/g), lod (1.1 µg/g) are considerably lower than the hb concentration of 10 µg/g designated by nice as the threshold for further patient investigation. the loq, if defined as the hb concentration where imprecision is 10%cv (7) was observed to be 15.0 µg/g. these detection capability estimates would suggest that at 10 µg/g the method is sensitive enough to be confident that hb is present but not about the absolute value below 15 µg/g.\\nthe immunoassay method imprecision is good when assessed using non-clinical iqc material, being consistently <9%, even over an 8 month period. a diluted iqc material at a concentration (1.5 µg/g) near to the lod (1.1 µg/g) showed an imprecision of 33.9%, higher than the precision profile line of fit derived with clinical material but reflective of highly variable imprecision at these lower concentrations. the concentration of hb present in the two iqc materials provided by the manufacturer, at around 25 µg/g and 95 µg/g. these were presumably selected to be clinically appropriate for use in screening programmes where decisions thresholds are higher. when the clinical interest shifts to lower concentrations, we would suggest a strategy of using iqc materials with values below and above 10 µg/g. imprecision rises when faecal sampling is taken into consideration: average imprecision in homogenised specimens was 10.2% and in non-homogenised specimens was 27.8%, with upper estimates of 13.5% and 48.6%, respectively. additionally, inconsistent classification was observed with respect to the 10 µg/g threshold in two further samples not assessed for imprecision due to some or all of the values being below the loq. this would suggest that hb is not uniformly distributed in the faecal specimen, a finding consistent with other faecal constituents. for example, a 1 h nmr spectroscopy study of faeces (14) highlighted both heterogeneity and instability of a range of metabolic constituents. also, whilst there is limited evidence to support the practice it is common for specimens for faecal elastase and calprotectin to include a homogenisation step prior to analysis. future work must further establish the potential benefit of homogenisation in relation to fit. we note that, in two specimens, one of the three non-homogenised results was positive compared with none in the homogenised specimens. this might lead to speculation that homogenisation leads to false negative results by reducing the amount of hb to the average in the stool specimen. neither of these patients have had a diagnosis of colorectal cancer, more than 1 year after the specimens were first obtained.\\nthe stability of the hb in the sampling device buffer appears reasonable at 6 days and for most specimens up to 21 days. however, one specimen showed notable deterioration at 21 days from above to below the current 10 µg/g threshold. in a dg30 service setting a minimum weekly fit batch analysis would minimise the potential of this degradation to misclassify results.\\nour serial sample data provides some insights into sample variability and enables some comment on sample stability. it is well established that hb degrades in faecal material (10) and this presents a potential for false negatives as the concentration may fall beneath that considered positive or detected. in the serial samples from patients we do not know the magnitude of degradation in individual specimens but we found no statistical difference with respect to categorical positive or negative results with this time series of specimens. our analysis is limited in that the intervals between specimens are variable. it is possible that the variability between days (a component of biological variability) and from sampling (a component of analytical variability) may be larger than the concentration changes associated with degradation: if sample degradation were the dominant variable it would be expected that the time series analysis would be significant.\\ncomparisons to previous literature.\\nin a previous study (15) of the diagnostic accuracy of one vs two specimens it was concluded that two specimens offered no advantage over one specimen. sequential results of 400 µg/g were sometimes followed by <10 µg/g from the same patient taken a median of 6 days apart. it is not certain whether these differences are due to biological variation, inconsistent bleeding or sampling imprecision. a study (16) of the utility of two sample strategies for colorectal cancer in a symptomatic population it was noted that there was 39.2% nonconcordance between the first fit result and the maximum fit result. it would therefore appear that whatever strategy is used, bleeding from a lesion may be inconsistent and any single sample will, on average, detect with the same degree of diagnostic accuracy. of note, previous studies of fit in symptomatic patients have noted a small number of false negatives (4). in a recent study (17) using fit in a symptomatic population in a 2 week wait pathway 12.5% of colorectal cancers were missed using a single patient collected specimen using a threshold of 10 µg/g. the method utilised was different from the one utilised in our laboratory study, the oc-sensortm (eiken chemical company, tokyo, japan) and had a reported detection limit of 4 µg/g. as with other studies it is not certain whether these false negative results were due to variable patterns of bleeding, poor sampling by the patient, or another cause. the study also noted that the majority of fit results from patients with colorectal cancer had very high values (>150 µg/g) which would suggest these cases should be referred with higher priority.\\nthere is on-going debate as to how fit results should be reported from those that consider the result as \"detected\"/\"not detected\" through to quantitative reporting of numeric values (4, 7) . given the high imprecision of analysis when sampling is taken into consideration we would caution against quantitative reporting of faecal hb due to the high uncertainty of measurement. further audit of larger datasets derived from symptomatic patients in routine clinical practice are required to provide evidence of the association between hb concentration and clinical outcomes and to further inform qualitative reporting strategies. the binary nature of reporting that we suggest may make for more straightforward pathways for the triage of patients who have been deferred due to the covid-19 pandemic and require re-prioritisation into urgent and less urgent groups.\\nthe quality assurance of faecal tests, including fit, presents unique analytical challenges compared to most clinical specimens used for diagnostic testing, such as whole blood, serum, plasma or urine. this is demonstrable in the lack of verification data in native faecal material available from manufacturers supplying sampling devices. existing data, depend upon synthetic material. it also presents challenges to laboratories with respect to both iqc and eqa. in our laboratory, we have commenced analysis of samples collected directly by patients into the collection device and noted that, despite collection guidance leaflets, a youtube video and targeted training of staff advising patients, many samples arrive with faecal material clearly on the outside of the container and no specimen apparent in the buffer. anecdotally, we have noted in many of the samples where sample integrity is questionable from visual inspection of the collection device, the patient is over 75 years of age.\\ncollection of samples in patients where there has been a change in bowel habit represents specific additional challenges and stool water content can vary between 60 and 82% (18) . the dilutional effect of this will impact on quantitative measures and the lack of form will affect entrapment of the specimen itself in the manufacturer\\'s collection device. we have noted a minority of specimens where considerably more than a 30 second vortex is required to suspend the faecal matter into the buffer. protocols for how to manage these challenging specimens observed in the symptomatic population are lacking. furthermore there is considerable concern about risk of faecal-oral or aerosol transmission of covid-19 (19) and the risks of sample manipulation and the need for a period of very high throughput need to be balanced against analytic accuracy.\\nthe evaluation of collection device robustness is particularly important to continue. one detailed study has reported that collection devices can be used effectively even when not used as recommended by the manufacturers (20) . whilst it demonstrated significant differences in the absolute fit concentration the effect on diagnostic performance was small. as with our study the testing involved specimen homogenisation and sampling in a laboratory to reduce variability.\\nin summary we have found that a commonly used fit method shows good consistency of categorising hb results against the dg30 threshold, and therefore appears suitable for this clinical application. however, there appear numerous sources of variability that require further investigation and optimisation. it is therefore important that all fit studies identify the relative contributions of biological variation, sampling technique, hb stability and method performance to false negative results as these are consistently observed in the literature. the high imprecision precludes reporting of quantitative fit concentrations and on current analytical performance we consider a categorical approach, for example negative or positive relative to recommendation of a 2 week wait referral is more appropriate, potentially simplifying pathways to reprioritise patients with lower gi cancer symptoms who have had definitive diagnosis delayed by the covid-19 pandemic. all rights reserved. no reuse allowed without permission.\\nthe author/funder, who has granted medrxiv a license to display the preprint in perpetuity.\\nthe copyright holder for this preprint (which was not peer-reviewed) is . https://doi.org/10.1101/2020.04.15.20066191 doi: medrxiv preprint figure 2 legend: specimen preparation effects. 33 specimens analysed in triplicate prior to and after homogenisation. results show the observed concentration range (lowest to highest) with each specimen presented sequentially with homogenised (circles) and non-homogenised (triangles) results adjacent. the author/funder, who has granted medrxiv a license to display the preprint in perpetuity.\\nthe copyright holder for this preprint (which was not peer-reviewed) is the author/funder, who has granted medrxiv a license to display the preprint in perpetuity.\\nthe copyright holder for this preprint (which was not peer-reviewed) is table 1 : imprecision estimates over a 12 month period all rights reserved. no reuse allowed without permission.\\nthe author/funder, who has granted medrxiv a license to display the preprint in perpetuity.\\nthe copyright holder for this preprint (which was not peer-reviewed) is . https://doi.org/10.1101/2020.04. 15.20066191 doi: medrxiv preprint '"
      ]
     },
     "execution_count": 16,
     "metadata": {},
     "output_type": "execute_result"
    }
   ],
   "source": [
    "normalize_text(df_covid[\"body_text\"][0])"
   ]
  },
  {
   "cell_type": "code",
   "execution_count": 18,
   "metadata": {},
   "outputs": [],
   "source": [
    "PRC_DATA_FPATH = \"pretrain/data/proc_dataset.txt\" #@param {type: \"string\"}\n",
    "with open(PRC_DATA_FPATH, \"w\",encoding=\"utf-8\") as fo:\n",
    "    for l in df_covid[\"body_text\"]:\n",
    "        fo.write(normalize_text(l)+\"\\n\")"
   ]
  },
  {
   "cell_type": "markdown",
   "metadata": {},
   "source": [
    "### saving sentence per line "
   ]
  },
  {
   "cell_type": "code",
   "execution_count": 2,
   "metadata": {},
   "outputs": [],
   "source": []
  },
  {
   "cell_type": "code",
   "execution_count": 19,
   "metadata": {},
   "outputs": [
    {
     "name": "stderr",
     "output_type": "stream",
     "text": [
      "[nltk_data] Downloading package punkt to\n",
      "[nltk_data]     /Users/catherinewang/nltk_data...\n",
      "[nltk_data]   Package punkt is already up-to-date!\n"
     ]
    }
   ],
   "source": [
    "nltk.download('punkt')\n",
    "\n",
    "extra_abbreviations = ['ps',  'inc', 'Corp', 'Ltd', 'Co', 'pkt', 'Dz.Ap', 'Jr', 'jr', 'sp', 'Sp', 'poj',  'pseud', 'krypt', 'sygn', 'Dz.U', 'ws', 'itd', 'np', 'sanskryt', 'nr', 'gł', 'Takht', 'tzw', 't.zw', 'ewan', 'tyt', 'oryg', 't.j', 'vs', 'l.mn', 'l.poj' ]\n",
    "\n",
    "position_abbrev = ['Ks', 'Abp', 'abp','bp','dr', 'kard', 'mgr', 'prof', 'zwycz', 'hab', 'arch', 'arch.kraj', 'B.Sc', 'Ph.D', 'lek', 'med', 'n.med', 'bł', 'św', 'hr', 'dziek' ]\n",
    "\n",
    "quantity_abbrev = [ 'mln', 'obr./min','km/godz', 'godz', 'egz', 'ha', 'j.m', 'cal', 'obj', 'alk', 'wag' ] # not added: tys.\n",
    "\n",
    "actions_abbrev = ['tłum','tlum','zob','wym', 'pot', 'ww', 'ogł', 'wyd', 'min', 'm.i', 'm.in', 'in', 'im','muz','tj', 'dot', 'wsp', 'właść', 'właśc', 'przedr', 'czyt', 'proj', 'dosł', 'hist', 'daw', 'zwł', 'zaw' ]\n",
    "\n",
    "place_abbrev = ['Śl', 'płd', 'geogr']\n",
    "\n",
    "lang_abbrev = ['jęz','fr','franc', 'ukr', 'ang', 'gr', 'hebr', 'czes', 'pol', 'niem', 'arab', 'egip', 'hiszp', 'jap', 'chin', 'kor', 'tyb', 'wiet', 'sum']\n",
    "\n",
    "military_abbrev = ['kpt', 'kpr', 'obs', 'pil', 'mjr','płk', 'dypl', 'pp', 'gw', 'dyw', 'bryg', 'ppłk', 'mar', 'marsz', 'rez', 'ppor', 'DPanc', 'BPanc', 'DKaw', 'p.uł']\n",
    "\n",
    "extra_abbreviations= extra_abbreviations + position_abbrev + quantity_abbrev + place_abbrev + actions_abbrev + place_abbrev + lang_abbrev+military_abbrev\n",
    "\n",
    "sentence_tokenizer = nltk.data.load('tokenizers/punkt/polish.pickle')\n",
    "sentence_tokenizer._params.abbrev_types.update(extra_abbreviations)\n",
    "\n",
    "sent_tokenize = sentence_tokenizer.tokenize\n"
   ]
  },
  {
   "cell_type": "code",
   "execution_count": 20,
   "metadata": {},
   "outputs": [],
   "source": [
    "def flatten(iterable):\n",
    "    return chain.from_iterable(iterable)\n",
    "    "
   ]
  },
  {
   "cell_type": "code",
   "execution_count": 36,
   "metadata": {},
   "outputs": [],
   "source": [
    "def process_line(line):\n",
    "    try:\n",
    "        #doc = json.loads(line)\n",
    "        txt = re.sub(\"\\s+\", \" \", line)\n",
    "        sentences = [s for s in sent_tokenize(txt)]\n",
    "        windowed_sentences = []\n",
    "        for snt in range(len(sentences)):\n",
    "            windowed_sentences.append(\" \".join(sentences[snt: snt + 4]))\n",
    "        return windowed_sentences\n",
    "    except:\n",
    "        # print(f\"Could not parse line \\n{line}\\n\")\n",
    "        return []"
   ]
  },
  {
   "cell_type": "code",
   "execution_count": 37,
   "metadata": {},
   "outputs": [],
   "source": [
    "def process_file(file_path):\n",
    "    print(f\"Processing {file_path}\")\n",
    "    lines = Path(file_path).read_text(\"utf-8\").split(\"\\n\")\n",
    "    with ProcessPoolExecutor(10) as pool:\n",
    "        return list(flatten(pool.map(process_line, lines)))"
   ]
  },
  {
   "cell_type": "code",
   "execution_count": 38,
   "metadata": {},
   "outputs": [],
   "source": [
    "files = [f for f in glob.glob(\"pretrain/data/**.txt\", recursive=True) if os.path.isfile(f)]"
   ]
  },
  {
   "cell_type": "code",
   "execution_count": 39,
   "metadata": {},
   "outputs": [
    {
     "data": {
      "text/plain": [
       "['pretrain/data/proc_dataset.txt']"
      ]
     },
     "execution_count": 39,
     "metadata": {},
     "output_type": "execute_result"
    }
   ],
   "source": [
    "files"
   ]
  },
  {
   "cell_type": "code",
   "execution_count": 40,
   "metadata": {},
   "outputs": [
    {
     "name": "stdout",
     "output_type": "stream",
     "text": [
      "Processing pretrain/data/proc_dataset.txt\n",
      "300000\r"
     ]
    }
   ],
   "source": [
    "buffer, BUFFER_SIZE = [], 100000\n",
    "with open(\"biorxiv_medrxiv.train.sliding4-v2.txt\", \"wt\") as file:\n",
    "    for i, sentence in enumerate(flatten(process_file(f) for f in files)):\n",
    "        if len(buffer) >= BUFFER_SIZE:\n",
    "            file.write(\"\\n\".join(buffer))\n",
    "            buffer.clear()\n",
    "            print(i, end=\"\\r\")\n",
    "        buffer.append(sentence)\n",
    "    if len(buffer) > 0:\n",
    "        file.write(\"\\n\".join(buffer))\n",
    "        buffer.clear()"
   ]
  },
  {
   "cell_type": "markdown",
   "metadata": {},
   "source": [
    "## 4. Run all dataset "
   ]
  },
  {
   "cell_type": "code",
   "execution_count": null,
   "metadata": {},
   "outputs": [],
   "source": []
  }
 ],
 "metadata": {
  "kernelspec": {
   "display_name": "Python 3",
   "language": "python",
   "name": "python3"
  },
  "language_info": {
   "codemirror_mode": {
    "name": "ipython",
    "version": 3
   },
   "file_extension": ".py",
   "mimetype": "text/x-python",
   "name": "python",
   "nbconvert_exporter": "python",
   "pygments_lexer": "ipython3",
   "version": "3.6.9"
  }
 },
 "nbformat": 4,
 "nbformat_minor": 4
}
